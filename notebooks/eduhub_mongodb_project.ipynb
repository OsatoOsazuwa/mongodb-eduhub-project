{
 "cells": [
  {
   "cell_type": "markdown",
   "id": "64b01e77",
   "metadata": {},
   "source": [
    "### Mongodb Eduhub"
   ]
  },
  {
   "cell_type": "code",
   "execution_count": 4,
   "id": "bbb26da0",
   "metadata": {},
   "outputs": [],
   "source": [
    "## Importing libraries\n",
    "from pymongo import MongoClient\n",
    "from faker import Faker\n",
    "from datetime import datetime, timezone, timedelta\n",
    "import pandas as pd"
   ]
  },
  {
   "cell_type": "code",
   "execution_count": 20,
   "id": "71f8b501",
   "metadata": {},
   "outputs": [],
   "source": [
    "import uuid\n",
    "import random\n"
   ]
  },
  {
   "cell_type": "markdown",
   "id": "05229b70",
   "metadata": {},
   "source": []
  },
  {
   "cell_type": "code",
   "execution_count": 6,
   "id": "3bd4642b",
   "metadata": {},
   "outputs": [],
   "source": [
    "# Connect to MongoDB\n",
    "client = MongoClient(\"mongodb://localhost:27017/\")\n",
    "db = client[\"eduhub_db\"]"
   ]
  },
  {
   "cell_type": "code",
   "execution_count": null,
   "id": "0b576faf",
   "metadata": {},
   "outputs": [],
   "source": [
    "# users Collection — with Validation Rules\n",
    "db.create_collection(\n",
    "    \"users\",\n",
    "    validator={\n",
    "        \"$jsonSchema\": {\n",
    "            \"bsonType\": \"object\",\n",
    "            \"required\": [\"userId\", \"email\", \"firstName\", \"lastName\", \"role\"],\n",
    "            \"properties\": {\n",
    "                \"userId\": {\"bsonType\": \"string\"},\n",
    "                \"email\": {\n",
    "                    \"bsonType\": \"string\",\n",
    "                    \"pattern\": \"^.+@.+$\"\n",
    "                },\n",
    "                \"firstName\": {\"bsonType\": \"string\"},\n",
    "                \"lastName\": {\"bsonType\": \"string\"},\n",
    "                \"role\": {\n",
    "                    \"enum\": [\"student\", \"instructor\"]\n",
    "                },\n",
    "                \"dateJoined\": {\"bsonType\": \"date\"},\n",
    "                \"profile\": {\n",
    "                    \"bsonType\": \"object\",\n",
    "                    \"properties\": {\n",
    "                        \"bio\": {\"bsonType\": \"string\"},\n",
    "                        \"avatar\": {\"bsonType\": \"string\"},\n",
    "                        \"skills\": {\n",
    "                            \"bsonType\": \"array\",\n",
    "                            \"items\": {\"bsonType\": \"string\"}\n",
    "                        }\n",
    "                    }\n",
    "                },\n",
    "                \"isActive\": {\"bsonType\": \"bool\"}\n",
    "            }\n",
    "        }\n",
    "    }\n",
    ")\n"
   ]
  },
  {
   "cell_type": "code",
   "execution_count": null,
   "id": "6624ee0f",
   "metadata": {},
   "outputs": [
    {
     "data": {
      "text/plain": [
       "Collection(Database(MongoClient(host=['localhost:27017'], document_class=dict, tz_aware=False, connect=True), 'eduhub_db'), 'courses')"
      ]
     },
     "execution_count": 6,
     "metadata": {},
     "output_type": "execute_result"
    }
   ],
   "source": [
    "# courses Collection — with Validation Rules\n",
    "db.create_collection(\n",
    "    \"courses\",\n",
    "    validator={\n",
    "        \"$jsonSchema\": {\n",
    "            \"bsonType\": \"object\",\n",
    "            \"required\": [\"courseId\", \"title\", \"instructorId\", \"level\"],\n",
    "            \"properties\": {\n",
    "                \"courseId\": {\"bsonType\": \"string\"},\n",
    "                \"title\": {\"bsonType\": \"string\"},\n",
    "                \"description\": {\"bsonType\": \"string\"},\n",
    "                \"instructorId\": {\"bsonType\": \"string\"},\n",
    "                \"category\": {\"bsonType\": \"string\"},\n",
    "                \"level\": {\n",
    "                    \"enum\": [\"beginner\", \"intermediate\", \"advanced\"]\n",
    "                },\n",
    "                \"duration\": {\"bsonType\": \"double\"},\n",
    "                \"price\": {\"bsonType\": \"double\"},\n",
    "                \"tags\": {\n",
    "                    \"bsonType\": \"array\",\n",
    "                    \"items\": {\"bsonType\": \"string\"}\n",
    "                },\n",
    "                \"createdAt\": {\"bsonType\": \"date\"},\n",
    "                \"updatedAt\": {\"bsonType\": \"date\"},\n",
    "                \"isPublished\": {\"bsonType\": \"bool\"},\n",
    "                \"rating\": {\"bsonType\": \"double\"},\n",
    "            }\n",
    "        }\n",
    "    }\n",
    ")\n"
   ]
  },
  {
   "cell_type": "code",
   "execution_count": null,
   "id": "9afd2a0b",
   "metadata": {},
   "outputs": [],
   "source": [
    "enrollments_schema = {\n",
    "    \"validator\": {\n",
    "        \"$jsonSchema\": {\n",
    "            \"bsonType\": \"object\",\n",
    "            \"required\": [\"enrollmentId\", \"studentId\", \"courseId\", \"enrolledAt\", \"status\"],\n",
    "            \"properties\": {\n",
    "                \"enrollmentId\": {\"bsonType\": \"string\"},\n",
    "                \"studentId\": {\"bsonType\": \"string\"},  # Reference to users.userId\n",
    "                \"courseId\": {\"bsonType\": \"string\"},   # Reference to courses.courseId\n",
    "                \"enrolledAt\": {\"bsonType\": \"date\"},\n",
    "                \"status\": {\n",
    "                    \"enum\": [\"active\", \"completed\", \"dropped\"]\n",
    "                },\n",
    "                \"progress\": {\n",
    "                    \"bsonType\": \"double\",\n",
    "                    \"minimum\": 0,\n",
    "                    \"maximum\": 100\n",
    "                }\n",
    "            }\n",
    "        }\n",
    "    }\n",
    "}\n",
    "\n",
    "lessons_schema = {\n",
    "    \"validator\": {\n",
    "        \"$jsonSchema\": {\n",
    "            \"bsonType\": \"object\",\n",
    "            \"required\": [\"lessonId\", \"courseId\", \"title\", \"content\", \"order\"],\n",
    "            \"properties\": {\n",
    "                \"lessonId\": {\"bsonType\": \"string\"},\n",
    "                \"courseId\": {\"bsonType\": \"string\"},  # Reference to courses.courseId\n",
    "                \"title\": {\"bsonType\": \"string\"},\n",
    "                \"content\": {\"bsonType\": \"string\"},\n",
    "                \"resources\": {\n",
    "                    \"bsonType\": \"array\",\n",
    "                    \"items\": {\"bsonType\": \"string\"}\n",
    "                },\n",
    "                \"order\": {\"bsonType\": \"int\"},  # Lesson sequence\n",
    "                \"createdAt\": {\"bsonType\": \"date\"}\n",
    "            }\n",
    "        }\n",
    "    }\n",
    "}\n",
    "\n",
    "assignments_schema = {\n",
    "    \"validator\": {\n",
    "        \"$jsonSchema\": {\n",
    "            \"bsonType\": \"object\",\n",
    "            \"required\": [\"assignmentId\", \"courseId\", \"title\", \"description\", \"dueDate\"],\n",
    "            \"properties\": {\n",
    "                \"assignmentId\": {\"bsonType\": \"string\"},\n",
    "                \"courseId\": {\"bsonType\": \"string\"},  # Reference to courses.courseId\n",
    "                \"lessonId\": {\"bsonType\": \"string\"},  # Optional, for lesson-specific assignments\n",
    "                \"title\": {\"bsonType\": \"string\"},\n",
    "                \"description\": {\"bsonType\": \"string\"},\n",
    "                \"dueDate\": {\"bsonType\": \"date\"},\n",
    "                \"points\": {\"bsonType\": \"int\"},\n",
    "                \"createdAt\": {\"bsonType\": \"date\"}\n",
    "            }\n",
    "        }\n",
    "    }\n",
    "}\n",
    "\n",
    "submissions_schema = {\n",
    "    \"validator\": {\n",
    "        \"$jsonSchema\": {\n",
    "            \"bsonType\": \"object\",\n",
    "            \"required\": [\"submissionId\", \"assignmentId\", \"studentId\", \"submittedAt\"],\n",
    "            \"properties\": {\n",
    "                \"submissionId\": {\"bsonType\": \"string\"},\n",
    "                \"assignmentId\": {\"bsonType\": \"string\"},  # Reference to assignments.assignmentId\n",
    "                \"studentId\": {\"bsonType\": \"string\"},     # Reference to users.userId\n",
    "                \"content\": {\"bsonType\": \"string\"},\n",
    "                \"grade\": {\"bsonType\": \"double\"},\n",
    "                \"feedback\": {\"bsonType\": \"string\"},\n",
    "                \"submittedAt\": {\"bsonType\": \"date\"}\n",
    "            }\n",
    "        }\n",
    "    }\n",
    "}\n"
   ]
  },
  {
   "cell_type": "code",
   "execution_count": null,
   "id": "6082d494",
   "metadata": {},
   "outputs": [
    {
     "data": {
      "text/plain": [
       "Collection(Database(MongoClient(host=['localhost:27017'], document_class=dict, tz_aware=False, connect=True), 'eduhub_db'), 'submissions')"
      ]
     },
     "execution_count": 8,
     "metadata": {},
     "output_type": "execute_result"
    }
   ],
   "source": [
    "db.create_collection(\"enrollments\", validator=enrollments_schema[\"validator\"])\n",
    "db.create_collection(\"lessons\", validator=lessons_schema[\"validator\"])\n",
    "db.create_collection(\"assignments\", validator=assignments_schema[\"validator\"])\n",
    "db.create_collection(\"submissions\", validator=submissions_schema[\"validator\"])\n"
   ]
  },
  {
   "cell_type": "markdown",
   "id": "71d726de",
   "metadata": {},
   "source": [
    "### Section Title: Task 1.2 – Document Schema Design"
   ]
  },
  {
   "cell_type": "code",
   "execution_count": null,
   "id": "e0df029d",
   "metadata": {},
   "outputs": [],
   "source": [
    "# Users Collection Schema\n",
    "user_schema = {\n",
    "    \"_id\": \"ObjectId (auto-generated)\",\n",
    "    \"userId\": \"string (unique)\",\n",
    "    \"email\": \"string (unique, required)\",\n",
    "    \"firstName\": \"string (required)\",\n",
    "    \"lastName\": \"string (required)\",\n",
    "    \"role\": \"string (enum: ['student', 'instructor'])\",\n",
    "    \"dateJoined\": \"datetime\",\n",
    "    \"profile\": {\n",
    "        \"bio\": \"string\",\n",
    "        \"avatar\": \"string\",\n",
    "        \"skills\": [\"string\"]\n",
    "    },\n",
    "    \"isActive\": \"boolean\"\n",
    "}\n",
    "\n",
    "# Courses Collection Schema\n",
    "course_schema = {\n",
    "    \"_id\": \"ObjectId (auto-generated)\",\n",
    "    \"courseId\": \"string (unique)\",\n",
    "    \"title\": \"string (required)\",\n",
    "    \"description\": \"string\",\n",
    "    \"instructorId\": \"string (reference to users)\",\n",
    "    \"category\": \"string\",\n",
    "    \"level\": \"string (enum: ['beginner', 'intermediate', 'advanced'])\",\n",
    "    \"duration\": \"number (in hours)\",\n",
    "    \"price\": \"number\",\n",
    "    \"tags\": [\"string\"],\n",
    "    \"createdAt\": \"datetime\",\n",
    "    \"updatedAt\": \"datetime\",\n",
    "    \"isPublished\": \"boolean\",\n",
    "    \"rating\": \"number\"\n",
    "}\n",
    "\n",
    "# Enrollments Collection Schema\n",
    "enrollment_schema = {\n",
    "    \"_id\": \"ObjectId (auto-generated)\",\n",
    "    \"enrollmentId\": \"string (unique)\",\n",
    "    \"studentId\": \"string (reference to users)\",\n",
    "    \"courseId\": \"string (reference to courses)\",\n",
    "    \"enrolledAt\": \"datetime\",\n",
    "    \"status\": \"string (enum: ['active', 'completed', 'dropped'])\",\n",
    "    \"progress\": \"number\"\n",
    "}\n",
    "\n",
    "# Lessons Collection Schema\n",
    "lesson_schema = {\n",
    "    \"_id\": \"ObjectId (auto-generated)\",\n",
    "    \"lessonId\": \"string (unique)\",\n",
    "    \"courseId\": \"string (reference to courses)\",\n",
    "    \"title\": \"string (required)\",\n",
    "    \"content\": \"string\",\n",
    "    \"resources\": [\"string\"],\n",
    "    \"order\": \"number\",\n",
    "    \"createdAt\": \"datetime\"\n",
    "}\n",
    "\n",
    "# Assignments Collection Schema\n",
    "assignment_schema = {\n",
    "    \"_id\": \"ObjectId (auto-generated)\",\n",
    "    \"assignmentId\": \"string (unique)\",\n",
    "    \"courseId\": \"string (reference to courses)\",\n",
    "    \"lessonId\": \"string (reference to lessons)\",\n",
    "    \"title\": \"string (required)\",\n",
    "    \"description\": \"string\",\n",
    "    \"dueDate\": \"datetime\",\n",
    "    \"points\": \"number\",\n",
    "    \"createdAt\": \"datetime\"\n",
    "}\n",
    "\n",
    "# Submissions Collection Schema\n",
    "submission_schema = {\n",
    "    \"_id\": \"ObjectId (auto-generated)\",\n",
    "    \"submissionId\": \"string (unique)\",\n",
    "    \"assignmentId\": \"string (reference to assignments)\",\n",
    "    \"studentId\": \"string (reference to users)\",\n",
    "    \"content\": \"string\",\n",
    "    \"grade\": \"number\",\n",
    "    \"feedback\": \"string\",\n",
    "    \"submittedAt\": \"datetime\"\n",
    "}\n"
   ]
  },
  {
   "cell_type": "markdown",
   "id": "a7d5363f",
   "metadata": {},
   "source": []
  },
  {
   "cell_type": "markdown",
   "id": "bbfb10c4",
   "metadata": {},
   "source": [
    "Task 2.1: Insert Sample Data"
   ]
  },
  {
   "cell_type": "code",
   "execution_count": 21,
   "id": "2229a2ac",
   "metadata": {},
   "outputs": [],
   "source": [
    "faker = Faker()\n",
    "\n"
   ]
  },
  {
   "cell_type": "code",
   "execution_count": null,
   "id": "cd898c7d",
   "metadata": {},
   "outputs": [
    {
     "data": {
      "text/plain": [
       "InsertManyResult([ObjectId('684af3ecf4735c5cb4158443'), ObjectId('684af3ecf4735c5cb4158444'), ObjectId('684af3ecf4735c5cb4158445'), ObjectId('684af3ecf4735c5cb4158446'), ObjectId('684af3ecf4735c5cb4158447'), ObjectId('684af3ecf4735c5cb4158448'), ObjectId('684af3ecf4735c5cb4158449'), ObjectId('684af3ecf4735c5cb415844a'), ObjectId('684af3ecf4735c5cb415844b'), ObjectId('684af3ecf4735c5cb415844c'), ObjectId('684af3ecf4735c5cb415844d'), ObjectId('684af3ecf4735c5cb415844e'), ObjectId('684af3ecf4735c5cb415844f'), ObjectId('684af3ecf4735c5cb4158450'), ObjectId('684af3ecf4735c5cb4158451'), ObjectId('684af3ecf4735c5cb4158452'), ObjectId('684af3ecf4735c5cb4158453'), ObjectId('684af3ecf4735c5cb4158454'), ObjectId('684af3ecf4735c5cb4158455'), ObjectId('684af3ecf4735c5cb4158456')], acknowledged=True)"
      ]
     },
     "execution_count": 22,
     "metadata": {},
     "output_type": "execute_result"
    }
   ],
   "source": [
    "#Inserting sample data in users collection\n",
    "roles = [\"student\"] * 14 + [\"instructor\"] * 6\n",
    "random.shuffle(roles)\n",
    "\n",
    "users = []\n",
    "for i in range(20):\n",
    "    user = {\n",
    "        \"userId\": str(uuid.uuid4()),\n",
    "        \"email\": faker.email(),\n",
    "        \"firstName\": faker.first_name(),\n",
    "        \"lastName\": faker.last_name(),\n",
    "        \"role\": roles[i],\n",
    "        \"dateJoined\": faker.date_time_this_year(),\n",
    "        \"profile\": {\n",
    "            \"bio\": faker.text(150),\n",
    "            \"avatar\": faker.image_url(),\n",
    "            \"skills\": [faker.word() for _ in range(random.randint(1, 4))]\n",
    "        },\n",
    "        \"isActive\": random.choice([True, False])\n",
    "    }\n",
    "    users.append(user)\n",
    "\n",
    "db.users.insert_many(users)\n"
   ]
  },
  {
   "cell_type": "code",
   "execution_count": 23,
   "id": "14018714",
   "metadata": {},
   "outputs": [
    {
     "data": {
      "text/plain": [
       "InsertManyResult([ObjectId('684af49bf4735c5cb4158457'), ObjectId('684af49bf4735c5cb4158458'), ObjectId('684af49bf4735c5cb4158459'), ObjectId('684af49bf4735c5cb415845a'), ObjectId('684af49bf4735c5cb415845b'), ObjectId('684af49bf4735c5cb415845c'), ObjectId('684af49bf4735c5cb415845d'), ObjectId('684af49bf4735c5cb415845e')], acknowledged=True)"
      ]
     },
     "execution_count": 23,
     "metadata": {},
     "output_type": "execute_result"
    }
   ],
   "source": [
    "# Inserting sample data in courses collection\n",
    "\n",
    "instructors = [u for u in users if u[\"role\"] == \"instructor\"]\n",
    "categories = [\"Data Science\", \"Web Dev\", \"Business\", \"AI\", \"Cybersecurity\"]\n",
    "levels = [\"beginner\", \"intermediate\", \"advanced\"]\n",
    "\n",
    "courses = []\n",
    "for _ in range(8):\n",
    "    instructor = random.choice(instructors)\n",
    "    course = {\n",
    "        \"courseId\": str(uuid.uuid4()),\n",
    "        \"title\": faker.catch_phrase(),\n",
    "        \"description\": faker.text(150),\n",
    "        \"instructorId\": instructor[\"userId\"],\n",
    "        \"category\": random.choice(categories),\n",
    "        \"level\": random.choice(levels),\n",
    "        \"duration\": round(random.uniform(1.5, 20.0), 1),\n",
    "        \"price\": round(random.uniform(10, 100), 2),\n",
    "        \"tags\": faker.words(nb=3),\n",
    "        \"createdAt\": faker.date_time_this_year(),\n",
    "        \"updatedAt\": faker.date_time_this_year(),\n",
    "        \"isPublished\": random.choice([True, False])\n",
    "    }\n",
    "    courses.append(course)\n",
    "\n",
    "db.courses.insert_many(courses)\n"
   ]
  },
  {
   "cell_type": "code",
   "execution_count": 24,
   "id": "57e0ad6e",
   "metadata": {},
   "outputs": [
    {
     "data": {
      "text/plain": [
       "InsertManyResult([ObjectId('684af514f4735c5cb415845f'), ObjectId('684af514f4735c5cb4158460'), ObjectId('684af514f4735c5cb4158461'), ObjectId('684af514f4735c5cb4158462'), ObjectId('684af514f4735c5cb4158463'), ObjectId('684af514f4735c5cb4158464'), ObjectId('684af514f4735c5cb4158465'), ObjectId('684af514f4735c5cb4158466'), ObjectId('684af514f4735c5cb4158467'), ObjectId('684af514f4735c5cb4158468'), ObjectId('684af514f4735c5cb4158469'), ObjectId('684af514f4735c5cb415846a'), ObjectId('684af514f4735c5cb415846b'), ObjectId('684af514f4735c5cb415846c'), ObjectId('684af514f4735c5cb415846d')], acknowledged=True)"
      ]
     },
     "execution_count": 24,
     "metadata": {},
     "output_type": "execute_result"
    }
   ],
   "source": [
    "## Inserting 15 Enrollments (studentId + courseId)\n",
    "students = [u for u in users if u[\"role\"] == \"student\"]\n",
    "statuses = [\"active\", \"completed\", \"dropped\"]\n",
    "\n",
    "enrollments = []\n",
    "for _ in range(15):\n",
    "    student = random.choice(students)\n",
    "    course = random.choice(courses)\n",
    "    enrollment = {\n",
    "        \"enrollmentId\": str(uuid.uuid4()),\n",
    "        \"studentId\": student[\"userId\"],\n",
    "        \"courseId\": course[\"courseId\"],\n",
    "        \"enrolledAt\": faker.date_time_this_year(),\n",
    "        \"status\": random.choice(statuses),\n",
    "        \"progress\": round(random.uniform(0, 100), 2)\n",
    "    }\n",
    "    enrollments.append(enrollment)\n",
    "\n",
    "db.enrollments.insert_many(enrollments)\n"
   ]
  },
  {
   "cell_type": "code",
   "execution_count": 25,
   "id": "235d62e0",
   "metadata": {},
   "outputs": [
    {
     "data": {
      "text/plain": [
       "InsertManyResult([ObjectId('684af628f4735c5cb415846e'), ObjectId('684af628f4735c5cb415846f'), ObjectId('684af628f4735c5cb4158470'), ObjectId('684af628f4735c5cb4158471'), ObjectId('684af628f4735c5cb4158472'), ObjectId('684af628f4735c5cb4158473'), ObjectId('684af628f4735c5cb4158474'), ObjectId('684af628f4735c5cb4158475'), ObjectId('684af628f4735c5cb4158476'), ObjectId('684af628f4735c5cb4158477'), ObjectId('684af628f4735c5cb4158478'), ObjectId('684af628f4735c5cb4158479'), ObjectId('684af628f4735c5cb415847a'), ObjectId('684af628f4735c5cb415847b'), ObjectId('684af628f4735c5cb415847c'), ObjectId('684af628f4735c5cb415847d'), ObjectId('684af628f4735c5cb415847e'), ObjectId('684af628f4735c5cb415847f'), ObjectId('684af628f4735c5cb4158480'), ObjectId('684af628f4735c5cb4158481'), ObjectId('684af628f4735c5cb4158482'), ObjectId('684af628f4735c5cb4158483'), ObjectId('684af628f4735c5cb4158484'), ObjectId('684af628f4735c5cb4158485'), ObjectId('684af628f4735c5cb4158486')], acknowledged=True)"
      ]
     },
     "execution_count": 25,
     "metadata": {},
     "output_type": "execute_result"
    }
   ],
   "source": [
    "# Inserting sample data in lessons collection\n",
    "lessons = []\n",
    "for _ in range(25):\n",
    "    course = random.choice(courses)\n",
    "    lesson = {\n",
    "        \"lessonId\": str(uuid.uuid4()),\n",
    "        \"courseId\": course[\"courseId\"],\n",
    "        \"title\": faker.sentence(),\n",
    "        \"content\": faker.text(300),\n",
    "        \"resources\": [faker.url() for _ in range(random.randint(0, 3))],\n",
    "        \"order\": random.randint(1, 10),\n",
    "        \"createdAt\": faker.date_time_this_year()\n",
    "    }\n",
    "    lessons.append(lesson)\n",
    "\n",
    "db.lessons.insert_many(lessons)\n"
   ]
  },
  {
   "cell_type": "code",
   "execution_count": 30,
   "id": "690eb794",
   "metadata": {},
   "outputs": [
    {
     "data": {
      "text/plain": [
       "InsertManyResult([ObjectId('684af872f4735c5cb415849b'), ObjectId('684af872f4735c5cb415849c'), ObjectId('684af872f4735c5cb415849d'), ObjectId('684af872f4735c5cb415849e'), ObjectId('684af872f4735c5cb415849f'), ObjectId('684af872f4735c5cb41584a0'), ObjectId('684af872f4735c5cb41584a1'), ObjectId('684af872f4735c5cb41584a2'), ObjectId('684af872f4735c5cb41584a3'), ObjectId('684af872f4735c5cb41584a4')], acknowledged=True)"
      ]
     },
     "execution_count": 30,
     "metadata": {},
     "output_type": "execute_result"
    }
   ],
   "source": [
    "# Inserting sample data in assignments collection\n",
    "assignments = []\n",
    "\n",
    "for _ in range(10):  # Generate 10 sample assignments\n",
    "    course = random.choice(courses)\n",
    "    \n",
    "    assignment = {\n",
    "        \"assignmentId\": str(uuid.uuid4()),\n",
    "        \"courseId\": course[\"courseId\"],\n",
    "        \"title\": faker.sentence(nb_words=6),\n",
    "        \"description\": faker.text(max_nb_chars=100),\n",
    "        \"dueDate\": faker.future_datetime(end_date=\"+30d\"),\n",
    "        \"points\": faker.random_int(min=5, max=20),\n",
    "        \"createdAt\": faker.date_time_this_year()\n",
    "    }\n",
    "\n",
    "    # Add optional lessonId only if lessons exist and randomly chosen\n",
    "    if lessons and random.choice([True, False]):\n",
    "        lesson = random.choice(lessons)\n",
    "        if \"lessonId\" in lesson:\n",
    "            assignment[\"lessonId\"] = lesson[\"lessonId\"]\n",
    "\n",
    "    assignments.append(assignment)\n",
    "db.assignments.insert_many(assignments)\n"
   ]
  },
  {
   "cell_type": "code",
   "execution_count": 31,
   "id": "3fa024c5",
   "metadata": {},
   "outputs": [
    {
     "data": {
      "text/plain": [
       "InsertManyResult([ObjectId('684af8bdf4735c5cb41584a5'), ObjectId('684af8bdf4735c5cb41584a6'), ObjectId('684af8bdf4735c5cb41584a7'), ObjectId('684af8bdf4735c5cb41584a8'), ObjectId('684af8bdf4735c5cb41584a9'), ObjectId('684af8bdf4735c5cb41584aa'), ObjectId('684af8bdf4735c5cb41584ab'), ObjectId('684af8bdf4735c5cb41584ac'), ObjectId('684af8bdf4735c5cb41584ad'), ObjectId('684af8bdf4735c5cb41584ae'), ObjectId('684af8bdf4735c5cb41584af'), ObjectId('684af8bdf4735c5cb41584b0')], acknowledged=True)"
      ]
     },
     "execution_count": 31,
     "metadata": {},
     "output_type": "execute_result"
    }
   ],
   "source": [
    "# Inserting sample data in submissions collection\n",
    "submissions = []\n",
    "for _ in range(12):\n",
    "    student = random.choice(students)\n",
    "    assignment = random.choice(assignments)\n",
    "    submission = {\n",
    "        \"submissionId\": str(uuid.uuid4()),\n",
    "        \"assignmentId\": assignment[\"assignmentId\"],\n",
    "        \"studentId\": student[\"userId\"],\n",
    "        \"content\": faker.paragraph(nb_sentences=5),\n",
    "        \"grade\": round(random.uniform(0, 100), 2),\n",
    "        \"feedback\": faker.sentence(),\n",
    "        \"submittedAt\": faker.date_time_this_year()\n",
    "    }\n",
    "    submissions.append(submission)\n",
    "\n",
    "db.submissions.insert_many(submissions)\n"
   ]
  },
  {
   "cell_type": "markdown",
   "id": "92941d6f",
   "metadata": {},
   "source": [
    "### Section 3: Basic CRUD Operations"
   ]
  },
  {
   "cell_type": "code",
   "execution_count": 33,
   "id": "44290776",
   "metadata": {},
   "outputs": [
    {
     "data": {
      "text/plain": [
       "InsertOneResult(ObjectId('684afcdef4735c5cb41584b4'), acknowledged=True)"
      ]
     },
     "execution_count": 33,
     "metadata": {},
     "output_type": "execute_result"
    }
   ],
   "source": [
    "### Section 3.1 Create Operations\n",
    "# 1. Add a new student user\n",
    "new_student = {\n",
    "    \"userId\": str(uuid.uuid4()),\n",
    "    \"email\": \"newstudent@example.com\",\n",
    "    \"firstName\": \"Ada\",\n",
    "    \"lastName\": \"Okonkwo\",\n",
    "    \"role\": \"student\",\n",
    "    \"dateJoined\": datetime.now(timezone.utc),\n",
    "    \"isActive\": True,\n",
    "    \"profile\": {\n",
    "        \"bio\": \"Excited to learn!\",\n",
    "        \"avatar\": \"https://example.com/avatar/ada.jpg\",  # URL or path to avatar image\n",
    "        \"skills\": [\"Python\", \"Data Analysis\"]\n",
    "    }\n",
    "}\n",
    "db.users.insert_one(new_student)\n",
    "\n",
    "# 2. Create a new course\n",
    "new_course = {\n",
    "    \"courseId\": str(uuid.uuid4()),\n",
    "    \"title\": \"Data Analysis with Python\",\n",
    "    \"description\": \"Learn how to analyze data using Python.\",\n",
    "    \"instructorId\": db.users.find_one({\"role\": \"instructor\"})[\"userId\"],\n",
    "    \"category\": \"Data Science\",\n",
    "    \"level\": \"beginner\",\n",
    "    \"duration\": 15.0,\n",
    "    \"price\": 0.0,\n",
    "    \"tags\": [\"data\", \"python\"],\n",
    "    \"createdAt\": datetime.now(timezone.utc),\n",
    "    \"updatedAt\": datetime.now(timezone.utc),\n",
    "    \"isPublished\": False\n",
    "}\n",
    "db.courses.insert_one(new_course)\n",
    "\n",
    "# 3. Enroll a student in a course\n",
    "new_enrollment = {\n",
    "    \"enrollmentId\": str(uuid.uuid4()),\n",
    "    \"studentId\": new_student[\"userId\"],\n",
    "    \"courseId\": new_course[\"courseId\"],\n",
    "    \"enrolledAt\": datetime.now(timezone.utc),\n",
    "    \"status\": \"active\",\n",
    "    \"progress\": 0.0\n",
    "}\n",
    "db.enrollments.insert_one(new_enrollment)\n",
    "\n",
    "# 4. Add a new lesson to an existing course\n",
    "new_lesson = {\n",
    "    \"lessonId\": str(uuid.uuid4()),\n",
    "    \"courseId\": new_course[\"courseId\"],\n",
    "    \"title\": \"Introduction to Data Analysis\",\n",
    "    \"content\": \"This lesson introduces basic concepts in data analysis.\",\n",
    "    \"resources\": [\"https://docs.python.org\"],\n",
    "    \"order\": 1,\n",
    "    \"createdAt\": datetime.now(timezone.utc)\n",
    "}\n",
    "db.lessons.insert_one(new_lesson)"
   ]
  },
  {
   "cell_type": "code",
   "execution_count": 34,
   "id": "65d822aa",
   "metadata": {},
   "outputs": [
    {
     "name": "stdout",
     "output_type": "stream",
     "text": [
      "[{'_id': ObjectId('684af49bf4735c5cb4158457'), 'courseId': 'd0023b00-35a7-4fd7-97c1-d397bda85125', 'title': 'Cloned exuding paradigm', 'description': 'Memory former history because behind.\\nCertain every benefit you. Computer truth modern serve business drug. Start far light Congress provide may.', 'instructorId': '70f51a9d-d94b-469e-a5cf-bf95f15917c4', 'category': 'Cybersecurity', 'level': 'advanced', 'duration': 3.2, 'price': 39.03, 'tags': ['choose', 'upon', 'we'], 'createdAt': datetime.datetime(2025, 2, 8, 9, 4, 46, 264000), 'updatedAt': datetime.datetime(2025, 5, 31, 18, 4, 26, 940000), 'isPublished': True, 'instructor': {'_id': ObjectId('684af3ecf4735c5cb4158448'), 'userId': '70f51a9d-d94b-469e-a5cf-bf95f15917c4', 'email': 'michelledyer@example.org', 'firstName': 'Susan', 'lastName': 'Dunn', 'role': 'instructor', 'dateJoined': datetime.datetime(2025, 5, 20, 1, 38, 6, 453000), 'profile': {'bio': 'Something act decision require. Door on agreement blue quickly.\\nWindow minute enjoy establish white win.', 'avatar': 'https://picsum.photos/393/725', 'skills': ['able', 'example']}, 'isActive': True}}, {'_id': ObjectId('684af49bf4735c5cb4158458'), 'courseId': '74605146-5400-446c-8638-3e268cf0ecfc', 'title': 'Switchable 6thgeneration open architecture', 'description': 'Anyone likely necessary.\\nIncrease section weight foot. Must hair design ahead rich.', 'instructorId': 'dd10ef06-389c-4e00-a33f-d941bc6a5cc1', 'category': 'Data Science', 'level': 'advanced', 'duration': 14.2, 'price': 90.41, 'tags': ['federal', 'soon', 'knowledge'], 'createdAt': datetime.datetime(2025, 2, 4, 19, 31, 59, 916000), 'updatedAt': datetime.datetime(2025, 6, 8, 10, 39, 26, 93000), 'isPublished': False, 'instructor': {'_id': ObjectId('684af3ecf4735c5cb4158455'), 'userId': 'dd10ef06-389c-4e00-a33f-d941bc6a5cc1', 'email': 'nanderson@example.org', 'firstName': 'Yvonne', 'lastName': 'Baker', 'role': 'instructor', 'dateJoined': datetime.datetime(2025, 2, 24, 16, 43, 38, 523000), 'profile': {'bio': 'As quite now my mean. Consider run attack talk.\\nStrong early cause near. Argue trouble other late writer sea standard pattern.', 'avatar': 'https://placekitten.com/995/909', 'skills': ['student', 'personal', 'half']}, 'isActive': False}}, {'_id': ObjectId('684af49bf4735c5cb4158459'), 'courseId': '5f1d3c4d-1ca2-444b-bf32-49e1332dfbe6', 'title': 'Operative radical function', 'description': 'Imagine suggest he push source run. Start build story personal continue only. Who art return half tax.', 'instructorId': '7cd1ab9a-a9a8-475b-9264-4b867caf783b', 'category': 'Cybersecurity', 'level': 'intermediate', 'duration': 15.1, 'price': 29.66, 'tags': ['with', 'different', 'game'], 'createdAt': datetime.datetime(2025, 5, 13, 11, 30, 4, 138000), 'updatedAt': datetime.datetime(2025, 6, 8, 2, 0, 38, 318000), 'isPublished': True, 'instructor': {'_id': ObjectId('684af3ecf4735c5cb415844d'), 'userId': '7cd1ab9a-a9a8-475b-9264-4b867caf783b', 'email': 'tjohnson@example.com', 'firstName': 'Sophia', 'lastName': 'Collins', 'role': 'instructor', 'dateJoined': datetime.datetime(2025, 4, 18, 21, 13, 38, 303000), 'profile': {'bio': 'Around recent executive form fill garden cover. He interest own drug magazine painting. Smile none movie coach.', 'avatar': 'https://placekitten.com/666/128', 'skills': ['player', 'civil']}, 'isActive': False}}, {'_id': ObjectId('684af49bf4735c5cb415845a'), 'courseId': '31947696-320f-4ffb-a913-08a320e1e327', 'title': 'Inverse logistical benchmark', 'description': 'Explain area city happen how. Mean quickly moment machine reveal. Realize tend section crime.', 'instructorId': '7cd1ab9a-a9a8-475b-9264-4b867caf783b', 'category': 'Cybersecurity', 'level': 'beginner', 'duration': 17.0, 'price': 86.62, 'tags': ['whom', 'executive', 'coach'], 'createdAt': datetime.datetime(2025, 5, 27, 22, 49, 4, 751000), 'updatedAt': datetime.datetime(2025, 3, 24, 12, 20, 45, 807000), 'isPublished': False, 'instructor': {'_id': ObjectId('684af3ecf4735c5cb415844d'), 'userId': '7cd1ab9a-a9a8-475b-9264-4b867caf783b', 'email': 'tjohnson@example.com', 'firstName': 'Sophia', 'lastName': 'Collins', 'role': 'instructor', 'dateJoined': datetime.datetime(2025, 4, 18, 21, 13, 38, 303000), 'profile': {'bio': 'Around recent executive form fill garden cover. He interest own drug magazine painting. Smile none movie coach.', 'avatar': 'https://placekitten.com/666/128', 'skills': ['player', 'civil']}, 'isActive': False}}, {'_id': ObjectId('684af49bf4735c5cb415845b'), 'courseId': 'b97fe9ff-2312-4045-876c-b71e4f277d68', 'title': 'Polarized background instruction set', 'description': 'Food win oil resource per. Evidence who age behavior before. Plant describe serve water arm fight cause.', 'instructorId': 'dd10ef06-389c-4e00-a33f-d941bc6a5cc1', 'category': 'AI', 'level': 'intermediate', 'duration': 8.1, 'price': 72.77, 'tags': ['level', 'treat', 'learn'], 'createdAt': datetime.datetime(2025, 3, 16, 4, 37, 59, 269000), 'updatedAt': datetime.datetime(2025, 1, 21, 15, 14, 25, 952000), 'isPublished': False, 'instructor': {'_id': ObjectId('684af3ecf4735c5cb4158455'), 'userId': 'dd10ef06-389c-4e00-a33f-d941bc6a5cc1', 'email': 'nanderson@example.org', 'firstName': 'Yvonne', 'lastName': 'Baker', 'role': 'instructor', 'dateJoined': datetime.datetime(2025, 2, 24, 16, 43, 38, 523000), 'profile': {'bio': 'As quite now my mean. Consider run attack talk.\\nStrong early cause near. Argue trouble other late writer sea standard pattern.', 'avatar': 'https://placekitten.com/995/909', 'skills': ['student', 'personal', 'half']}, 'isActive': False}}, {'_id': ObjectId('684af49bf4735c5cb415845c'), 'courseId': '0d15b819-4347-4747-897c-c259c4e2ed08', 'title': 'Compatible clear-thinking utilization', 'description': 'Ever point and threat series green once discuss. Fear himself value seven rate discuss. Say later market improve statement.', 'instructorId': '70f51a9d-d94b-469e-a5cf-bf95f15917c4', 'category': 'Web Dev', 'level': 'beginner', 'duration': 19.0, 'price': 30.1, 'tags': ['finally', 'direction', 'all'], 'createdAt': datetime.datetime(2025, 2, 4, 19, 43, 40, 193000), 'updatedAt': datetime.datetime(2025, 4, 7, 22, 46, 6, 46000), 'isPublished': False, 'instructor': {'_id': ObjectId('684af3ecf4735c5cb4158448'), 'userId': '70f51a9d-d94b-469e-a5cf-bf95f15917c4', 'email': 'michelledyer@example.org', 'firstName': 'Susan', 'lastName': 'Dunn', 'role': 'instructor', 'dateJoined': datetime.datetime(2025, 5, 20, 1, 38, 6, 453000), 'profile': {'bio': 'Something act decision require. Door on agreement blue quickly.\\nWindow minute enjoy establish white win.', 'avatar': 'https://picsum.photos/393/725', 'skills': ['able', 'example']}, 'isActive': True}}, {'_id': ObjectId('684af49bf4735c5cb415845d'), 'courseId': 'ad439ff4-7fa2-43ef-aeff-fea996ca1d4f', 'title': 'Up-sized static instruction set', 'description': 'Machine open scientist news your. Pass board morning improve beyond daughter step. Recognize government range some air generation pretty.', 'instructorId': 'df36112c-3dab-48d6-8235-5fcac6fc5fce', 'category': 'AI', 'level': 'advanced', 'duration': 4.2, 'price': 80.53, 'tags': ['should', 'data', 'might'], 'createdAt': datetime.datetime(2025, 5, 8, 5, 14, 45, 826000), 'updatedAt': datetime.datetime(2025, 4, 12, 2, 5, 24, 161000), 'isPublished': True, 'instructor': {'_id': ObjectId('684af3ecf4735c5cb4158450'), 'userId': 'df36112c-3dab-48d6-8235-5fcac6fc5fce', 'email': 'michael97@example.net', 'firstName': 'Ethan', 'lastName': 'Knapp', 'role': 'instructor', 'dateJoined': datetime.datetime(2025, 2, 1, 22, 30, 56, 735000), 'profile': {'bio': 'International lose force imagine. Soldier food interesting manager soon family. Force theory car account need impact.', 'avatar': 'https://picsum.photos/695/983', 'skills': ['game', 'off']}, 'isActive': True}}, {'_id': ObjectId('684af49bf4735c5cb415845e'), 'courseId': '0b1598d1-e7cf-49de-9f4c-cba8d279698b', 'title': 'Optimized neutral capability', 'description': 'Around on their way. Industry already fire state politics.', 'instructorId': 'df36112c-3dab-48d6-8235-5fcac6fc5fce', 'category': 'Business', 'level': 'intermediate', 'duration': 19.1, 'price': 89.58, 'tags': ['if', 'standard', 'probably'], 'createdAt': datetime.datetime(2025, 2, 17, 9, 20, 20, 669000), 'updatedAt': datetime.datetime(2025, 3, 6, 3, 1, 36, 895000), 'isPublished': False, 'instructor': {'_id': ObjectId('684af3ecf4735c5cb4158450'), 'userId': 'df36112c-3dab-48d6-8235-5fcac6fc5fce', 'email': 'michael97@example.net', 'firstName': 'Ethan', 'lastName': 'Knapp', 'role': 'instructor', 'dateJoined': datetime.datetime(2025, 2, 1, 22, 30, 56, 735000), 'profile': {'bio': 'International lose force imagine. Soldier food interesting manager soon family. Force theory car account need impact.', 'avatar': 'https://picsum.photos/695/983', 'skills': ['game', 'off']}, 'isActive': True}}, {'_id': ObjectId('684afcdef4735c5cb41584b2'), 'courseId': '04cb0722-7fa2-43d6-bc65-0c1cd067ed3b', 'title': 'Data Analysis with Python', 'description': 'Learn how to analyze data using Python.', 'instructorId': '70f51a9d-d94b-469e-a5cf-bf95f15917c4', 'category': 'Data Science', 'level': 'beginner', 'duration': 15.0, 'price': 0.0, 'tags': ['data', 'python'], 'createdAt': datetime.datetime(2025, 6, 12, 16, 14, 22, 212000), 'updatedAt': datetime.datetime(2025, 6, 12, 16, 14, 22, 212000), 'isPublished': False, 'instructor': {'_id': ObjectId('684af3ecf4735c5cb4158448'), 'userId': '70f51a9d-d94b-469e-a5cf-bf95f15917c4', 'email': 'michelledyer@example.org', 'firstName': 'Susan', 'lastName': 'Dunn', 'role': 'instructor', 'dateJoined': datetime.datetime(2025, 5, 20, 1, 38, 6, 453000), 'profile': {'bio': 'Something act decision require. Door on agreement blue quickly.\\nWindow minute enjoy establish white win.', 'avatar': 'https://picsum.photos/393/725', 'skills': ['able', 'example']}, 'isActive': True}}]\n"
     ]
    }
   ],
   "source": [
    "### Section 3.2 Read Operations\n",
    "# 1. Find all active students\n",
    "active_students = list(db.users.find({\"role\": \"student\", \"isActive\": True}))\n",
    "\n",
    "# 2. Retrieve course details with instructor info\n",
    "course_with_instructor = db.courses.aggregate([\n",
    "    {\n",
    "        \"$lookup\": {\n",
    "            \"from\": \"users\",\n",
    "            \"localField\": \"instructorId\",\n",
    "            \"foreignField\": \"userId\",\n",
    "            \"as\": \"instructor\"\n",
    "        }\n",
    "    },\n",
    "    {\"$unwind\": \"$instructor\"}\n",
    "])\n",
    "print(list(course_with_instructor))\n",
    "\n",
    "# 3. Get all courses in a specific category\n",
    "data_science_courses = list(db.courses.find({\"category\": \"Data Science\"}))\n",
    "\n",
    "# 4. Find students enrolled in a particular course\n",
    "course_id = new_course[\"courseId\"]\n",
    "student_ids = db.enrollments.find({\"courseId\": course_id}, {\"studentId\": 1})\n",
    "student_ids = [enr[\"studentId\"] for enr in student_ids]\n",
    "students = list(db.users.find({\"userId\": {\"$in\": student_ids}}))\n",
    "\n",
    "# 5. Search courses by title (case-insensitive, partial match)\n",
    "search_term = \"data\"\n",
    "matched_courses = list(db.courses.find({\"title\": {\"$regex\": search_term, \"$options\": \"i\"}}))\n"
   ]
  },
  {
   "cell_type": "code",
   "execution_count": null,
   "id": "f5d50b69",
   "metadata": {},
   "outputs": [
    {
     "data": {
      "text/plain": [
       "UpdateResult({'n': 1, 'nModified': 0, 'ok': 1.0, 'updatedExisting': True}, acknowledged=True)"
      ]
     },
     "execution_count": 36,
     "metadata": {},
     "output_type": "execute_result"
    }
   ],
   "source": [
    "### Section 3.3: Update Operatiosn\n",
    "# 1. Update a user's profile information\n",
    "db.users.update_one(\n",
    "    {\"userId\": new_student[\"userId\"]},\n",
    "    {\"$set\": {\"profile.bio\": \"Updated bio for student\", \"profile.skills\": [\"Python\", \"MongoDB\"]}}\n",
    ")\n",
    "\n",
    "# 2. Mark a course as published\n",
    "db.courses.update_one(\n",
    "    {\"courseId\": new_course[\"courseId\"]},\n",
    "    {\"$set\": {\"isPublished\": True, \"updatedAt\": datetime.utcnow()}}\n",
    ")\n",
    "\n",
    "# 3. Update assignment grades\n",
    "submission = db.submissions.find_one()\n",
    "db.submissions.update_one(\n",
    "    {\"submissionId\": submission[\"submissionId\"]},\n",
    "    {\"$set\": {\"grade\": 85.0, \"feedback\": \"Great work!\"}}\n",
    ")\n",
    "\n",
    "# 4. Add tags to an existing course\n",
    "db.courses.update_one(\n",
    "    {\"courseId\": new_course[\"courseId\"]},\n",
    "    {\"$addToSet\": {\"tags\": {\"$each\": [\"analysis\", \"beginner\"]}}}\n",
    ")\n"
   ]
  },
  {
   "cell_type": "code",
   "execution_count": 37,
   "id": "b129a9a3",
   "metadata": {},
   "outputs": [
    {
     "data": {
      "text/plain": [
       "DeleteResult({'n': 1, 'ok': 1.0}, acknowledged=True)"
      ]
     },
     "execution_count": 37,
     "metadata": {},
     "output_type": "execute_result"
    }
   ],
   "source": [
    "## Section 3.3: Delete Operations\n",
    "# 1. Remove a user (soft delete)\n",
    "db.users.update_one(\n",
    "    {\"userId\": new_student[\"userId\"]},\n",
    "    {\"$set\": {\"isActive\": False}}\n",
    ")\n",
    "\n",
    "# 2. Delete an enrollment\n",
    "db.enrollments.delete_one({\"studentId\": new_student[\"userId\"], \"courseId\": new_course[\"courseId\"]})\n",
    "\n",
    "# 3. Remove a lesson from a course\n",
    "db.lessons.delete_one({\"courseId\": new_course[\"courseId\"], \"order\": 1})\n"
   ]
  },
  {
   "cell_type": "markdown",
   "id": "e616e23c",
   "metadata": {},
   "source": [
    "### Section 4: Advanced Queries and Aggregation"
   ]
  },
  {
   "cell_type": "code",
   "execution_count": null,
   "id": "abdced9c",
   "metadata": {},
   "outputs": [],
   "source": [
    "## Section 4.1 Complex Queries\n",
    "## 1. Find courses with price between $50 and $200\n",
    "courses_in_price_range = list(db.courses.find({\n",
    "    \"price\": {\"$gte\": 50, \"$lte\": 200}\n",
    "}))\n",
    "\n",
    "## 2. Get users who joined in the last 6 months\n",
    "from datetime import timedelta\n",
    "\n",
    "six_months_ago = datetime.now(timezone.utc) - timedelta(days=6*30)  # approx 6 months\n",
    "recent_users = list(db.users.find({\n",
    "    \"dateJoined\": {\"$gte\": six_months_ago}\n",
    "}))\n",
    "\n",
    "## 3. Find courses that have specific tags using $in operator\n",
    "tags_to_search = [\"python\", \"data science\"]\n",
    "\n",
    "courses_with_tags = list(db.courses.find({\n",
    "    \"tags\": {\"$in\": tags_to_search}\n",
    "}))\n",
    "\n",
    "## 4. Retrieve assignments with due dates in the next week\n",
    "today = datetime.now(timezone.utc)\n",
    "next_week = today + timedelta(days=7)\n",
    "\n",
    "upcoming_assignments = list(db.assignments.find({\n",
    "    \"dueDate\": {\"$gte\": today, \"$lte\": next_week}\n",
    "}))\n"
   ]
  },
  {
   "cell_type": "code",
   "execution_count": 55,
   "id": "c1e51959",
   "metadata": {},
   "outputs": [
    {
     "data": {
      "text/plain": [
       "[{'_id': ObjectId('684af49bf4735c5cb4158458'),\n",
       "  'courseId': '74605146-5400-446c-8638-3e268cf0ecfc',\n",
       "  'title': 'Switchable 6thgeneration open architecture',\n",
       "  'description': 'Anyone likely necessary.\\nIncrease section weight foot. Must hair design ahead rich.',\n",
       "  'instructorId': 'dd10ef06-389c-4e00-a33f-d941bc6a5cc1',\n",
       "  'category': 'Data Science',\n",
       "  'level': 'advanced',\n",
       "  'duration': 14.2,\n",
       "  'price': 90.41,\n",
       "  'tags': ['federal', 'soon', 'knowledge'],\n",
       "  'createdAt': datetime.datetime(2025, 2, 4, 19, 31, 59, 916000),\n",
       "  'updatedAt': datetime.datetime(2025, 6, 8, 10, 39, 26, 93000),\n",
       "  'isPublished': False},\n",
       " {'_id': ObjectId('684af49bf4735c5cb415845a'),\n",
       "  'courseId': '31947696-320f-4ffb-a913-08a320e1e327',\n",
       "  'title': 'Inverse logistical benchmark',\n",
       "  'description': 'Explain area city happen how. Mean quickly moment machine reveal. Realize tend section crime.',\n",
       "  'instructorId': '7cd1ab9a-a9a8-475b-9264-4b867caf783b',\n",
       "  'category': 'Cybersecurity',\n",
       "  'level': 'beginner',\n",
       "  'duration': 17.0,\n",
       "  'price': 86.62,\n",
       "  'tags': ['whom', 'executive', 'coach'],\n",
       "  'createdAt': datetime.datetime(2025, 5, 27, 22, 49, 4, 751000),\n",
       "  'updatedAt': datetime.datetime(2025, 3, 24, 12, 20, 45, 807000),\n",
       "  'isPublished': False},\n",
       " {'_id': ObjectId('684af49bf4735c5cb415845b'),\n",
       "  'courseId': 'b97fe9ff-2312-4045-876c-b71e4f277d68',\n",
       "  'title': 'Polarized background instruction set',\n",
       "  'description': 'Food win oil resource per. Evidence who age behavior before. Plant describe serve water arm fight cause.',\n",
       "  'instructorId': 'dd10ef06-389c-4e00-a33f-d941bc6a5cc1',\n",
       "  'category': 'AI',\n",
       "  'level': 'intermediate',\n",
       "  'duration': 8.1,\n",
       "  'price': 72.77,\n",
       "  'tags': ['level', 'treat', 'learn'],\n",
       "  'createdAt': datetime.datetime(2025, 3, 16, 4, 37, 59, 269000),\n",
       "  'updatedAt': datetime.datetime(2025, 1, 21, 15, 14, 25, 952000),\n",
       "  'isPublished': False},\n",
       " {'_id': ObjectId('684af49bf4735c5cb415845d'),\n",
       "  'courseId': 'ad439ff4-7fa2-43ef-aeff-fea996ca1d4f',\n",
       "  'title': 'Up-sized static instruction set',\n",
       "  'description': 'Machine open scientist news your. Pass board morning improve beyond daughter step. Recognize government range some air generation pretty.',\n",
       "  'instructorId': 'df36112c-3dab-48d6-8235-5fcac6fc5fce',\n",
       "  'category': 'AI',\n",
       "  'level': 'advanced',\n",
       "  'duration': 4.2,\n",
       "  'price': 80.53,\n",
       "  'tags': ['should', 'data', 'might'],\n",
       "  'createdAt': datetime.datetime(2025, 5, 8, 5, 14, 45, 826000),\n",
       "  'updatedAt': datetime.datetime(2025, 4, 12, 2, 5, 24, 161000),\n",
       "  'isPublished': True},\n",
       " {'_id': ObjectId('684af49bf4735c5cb415845e'),\n",
       "  'courseId': '0b1598d1-e7cf-49de-9f4c-cba8d279698b',\n",
       "  'title': 'Optimized neutral capability',\n",
       "  'description': 'Around on their way. Industry already fire state politics.',\n",
       "  'instructorId': 'df36112c-3dab-48d6-8235-5fcac6fc5fce',\n",
       "  'category': 'Business',\n",
       "  'level': 'intermediate',\n",
       "  'duration': 19.1,\n",
       "  'price': 89.58,\n",
       "  'tags': ['if', 'standard', 'probably'],\n",
       "  'createdAt': datetime.datetime(2025, 2, 17, 9, 20, 20, 669000),\n",
       "  'updatedAt': datetime.datetime(2025, 3, 6, 3, 1, 36, 895000),\n",
       "  'isPublished': False}]"
      ]
     },
     "execution_count": 55,
     "metadata": {},
     "output_type": "execute_result"
    }
   ],
   "source": [
    "courses_in_price_range"
   ]
  },
  {
   "cell_type": "code",
   "execution_count": 56,
   "id": "c5e18c3a",
   "metadata": {},
   "outputs": [
    {
     "data": {
      "text/plain": [
       "datetime.datetime(2024, 12, 14, 16, 44, 10, 219925, tzinfo=datetime.timezone.utc)"
      ]
     },
     "execution_count": 56,
     "metadata": {},
     "output_type": "execute_result"
    }
   ],
   "source": [
    "six_months_ago"
   ]
  },
  {
   "cell_type": "code",
   "execution_count": 57,
   "id": "b63f216c",
   "metadata": {},
   "outputs": [
    {
     "data": {
      "text/plain": [
       "[{'_id': ObjectId('684afcdef4735c5cb41584b2'),\n",
       "  'courseId': '04cb0722-7fa2-43d6-bc65-0c1cd067ed3b',\n",
       "  'title': 'Data Analysis with Python',\n",
       "  'description': 'Learn how to analyze data using Python.',\n",
       "  'instructorId': '70f51a9d-d94b-469e-a5cf-bf95f15917c4',\n",
       "  'category': 'Data Science',\n",
       "  'level': 'beginner',\n",
       "  'duration': 15.0,\n",
       "  'price': 0.0,\n",
       "  'tags': ['data', 'python', 'analysis', 'beginner'],\n",
       "  'createdAt': datetime.datetime(2025, 6, 12, 16, 14, 22, 212000),\n",
       "  'updatedAt': datetime.datetime(2025, 6, 12, 16, 17, 58, 673000),\n",
       "  'isPublished': True}]"
      ]
     },
     "execution_count": 57,
     "metadata": {},
     "output_type": "execute_result"
    }
   ],
   "source": [
    "courses_with_tags"
   ]
  },
  {
   "cell_type": "code",
   "execution_count": 58,
   "id": "73f2b0d6",
   "metadata": {},
   "outputs": [
    {
     "data": {
      "text/plain": [
       "[{'_id': ObjectId('684af872f4735c5cb415849f'),\n",
       "  'assignmentId': '73d170cc-adc9-44c9-bd40-40b77a18da9d',\n",
       "  'courseId': '31947696-320f-4ffb-a913-08a320e1e327',\n",
       "  'title': 'Society student sport decade performance six include.',\n",
       "  'description': 'National marriage worker strategy environmental. Feel unit Congress enjoy left.',\n",
       "  'dueDate': datetime.datetime(2025, 6, 18, 8, 25, 48, 688000),\n",
       "  'points': 12,\n",
       "  'createdAt': datetime.datetime(2025, 6, 11, 16, 43, 41, 526000)},\n",
       " {'_id': ObjectId('684af872f4735c5cb41584a1'),\n",
       "  'assignmentId': '2aed03a4-2c55-45d2-a8a8-dc065fbd370a',\n",
       "  'courseId': 'ad439ff4-7fa2-43ef-aeff-fea996ca1d4f',\n",
       "  'title': 'Week goal rule nature beat.',\n",
       "  'description': 'Medical western over make whole financial compare. Second remain town pull sort purpose.',\n",
       "  'dueDate': datetime.datetime(2025, 6, 12, 21, 37, 44, 12000),\n",
       "  'points': 20,\n",
       "  'createdAt': datetime.datetime(2025, 4, 20, 6, 15, 25, 963000),\n",
       "  'lessonId': '9f030611-f077-4141-96b7-05279b8f72af'},\n",
       " {'_id': ObjectId('684af872f4735c5cb41584a3'),\n",
       "  'assignmentId': 'ecded026-2054-4769-a3f6-4d8112b16733',\n",
       "  'courseId': 'd0023b00-35a7-4fd7-97c1-d397bda85125',\n",
       "  'title': 'Play exist assume either stand idea group.',\n",
       "  'description': 'You field PM. Center teacher language marriage approach indeed.',\n",
       "  'dueDate': datetime.datetime(2025, 6, 17, 0, 9, 52, 529000),\n",
       "  'points': 5,\n",
       "  'createdAt': datetime.datetime(2025, 2, 6, 15, 51, 47, 382000),\n",
       "  'lessonId': '1ea8d4ac-2244-49ad-a85d-21425cc787e4'}]"
      ]
     },
     "execution_count": 58,
     "metadata": {},
     "output_type": "execute_result"
    }
   ],
   "source": [
    "upcoming_assignments"
   ]
  },
  {
   "cell_type": "code",
   "execution_count": null,
   "id": "513db448",
   "metadata": {},
   "outputs": [
    {
     "data": {
      "text/plain": [
       "[{'_id': '74605146-5400-446c-8638-3e268cf0ecfc', 'totalEnrollments': 4},\n",
       " {'_id': '31947696-320f-4ffb-a913-08a320e1e327', 'totalEnrollments': 3},\n",
       " {'_id': '0b1598d1-e7cf-49de-9f4c-cba8d279698b', 'totalEnrollments': 4},\n",
       " {'_id': 'd0023b00-35a7-4fd7-97c1-d397bda85125', 'totalEnrollments': 3},\n",
       " {'_id': 'b97fe9ff-2312-4045-876c-b71e4f277d68', 'totalEnrollments': 1}]"
      ]
     },
     "execution_count": 61,
     "metadata": {},
     "output_type": "execute_result"
    }
   ],
   "source": [
    "## Section 4.2: Aggregation Pipelines\n",
    "## 1a. Course Enrollment Statistics\n",
    "enrollments_per_course = list(db.enrollments.aggregate([\n",
    "    {\n",
    "        \"$group\": {\n",
    "            \"_id\": \"$courseId\",\n",
    "            \"totalEnrollments\": {\"$sum\": 1}\n",
    "        }\n",
    "    }\n",
    "]))\n",
    "enrollments_per_course\n"
   ]
  },
  {
   "cell_type": "code",
   "execution_count": null,
   "id": "af68ad5b",
   "metadata": {},
   "outputs": [
    {
     "name": "stdout",
     "output_type": "stream",
     "text": [
      "Assigned random ratings to all courses.\n"
     ]
    }
   ],
   "source": [
    "## b. Calculate average course rating\n",
    "## Updating courses collections to include ratings first\n",
    "\n",
    "\n",
    "# Fetch all courses\n",
    "courses = list(db.courses.find({}))\n",
    "\n",
    "for course in courses:\n",
    "    rating = round(random.uniform(1, 5), 1)  # e.g., 3.7\n",
    "    db.courses.update_one(\n",
    "        {\"_id\": course[\"_id\"]},\n",
    "        {\"$set\": {\"rating\": rating}}\n",
    "    )\n",
    "print(\"Assigned random ratings to all courses.\")"
   ]
  },
  {
   "cell_type": "code",
   "execution_count": 63,
   "id": "5c36393a",
   "metadata": {},
   "outputs": [
    {
     "data": {
      "text/plain": [
       "[{'_id': '5f1d3c4d-1ca2-444b-bf32-49e1332dfbe6', 'avgRating': 3.3},\n",
       " {'_id': 'b97fe9ff-2312-4045-876c-b71e4f277d68', 'avgRating': 2.8},\n",
       " {'_id': '04cb0722-7fa2-43d6-bc65-0c1cd067ed3b', 'avgRating': 3.5},\n",
       " {'_id': 'ad439ff4-7fa2-43ef-aeff-fea996ca1d4f', 'avgRating': 2.2},\n",
       " {'_id': '74605146-5400-446c-8638-3e268cf0ecfc', 'avgRating': 3.9},\n",
       " {'_id': '31947696-320f-4ffb-a913-08a320e1e327', 'avgRating': 3.9},\n",
       " {'_id': 'd0023b00-35a7-4fd7-97c1-d397bda85125', 'avgRating': 3.7},\n",
       " {'_id': '0d15b819-4347-4747-897c-c259c4e2ed08', 'avgRating': 4.1},\n",
       " {'_id': '0b1598d1-e7cf-49de-9f4c-cba8d279698b', 'avgRating': 3.3}]"
      ]
     },
     "execution_count": 63,
     "metadata": {},
     "output_type": "execute_result"
    }
   ],
   "source": [
    "avg_course_rating = list(db.courses.aggregate([\n",
    "    {\n",
    "        \"$unwind\": \"$rating\"\n",
    "    },\n",
    "    {\n",
    "        \"$group\": {\n",
    "            \"_id\": \"$courseId\",\n",
    "            \"avgRating\": {\"$avg\": \"$rating\"}\n",
    "        }\n",
    "    }\n",
    "]))\n",
    "avg_course_rating"
   ]
  },
  {
   "cell_type": "code",
   "execution_count": null,
   "id": "9d518b6c",
   "metadata": {},
   "outputs": [
    {
     "data": {
      "text/plain": [
       "[{'_id': 'Business', 'totalEnrollments': 4},\n",
       " {'_id': 'AI', 'totalEnrollments': 1},\n",
       " {'_id': 'Cybersecurity', 'totalEnrollments': 6},\n",
       " {'_id': 'Data Science', 'totalEnrollments': 4}]"
      ]
     },
     "execution_count": 64,
     "metadata": {},
     "output_type": "execute_result"
    }
   ],
   "source": [
    "## c. Group by course category with enrollment count\n",
    "enrollment_by_category = list(db.enrollments.aggregate([\n",
    "    {\n",
    "        \"$lookup\": {\n",
    "            \"from\": \"courses\",\n",
    "            \"localField\": \"courseId\",\n",
    "            \"foreignField\": \"courseId\",\n",
    "            \"as\": \"course\"\n",
    "        }\n",
    "    },\n",
    "    {\"$unwind\": \"$course\"},\n",
    "    {\n",
    "        \"$group\": {\n",
    "            \"_id\": \"$course.category\",\n",
    "            \"totalEnrollments\": {\"$sum\": 1}\n",
    "        }\n",
    "    }\n",
    "]))\n",
    "enrollment_by_category"
   ]
  },
  {
   "cell_type": "code",
   "execution_count": 65,
   "id": "e33d0ba4",
   "metadata": {},
   "outputs": [
    {
     "data": {
      "text/plain": [
       "[{'_id': 'eeae0acf-d682-433f-95dc-b74e8ca63329', 'averageGrade': 48.015},\n",
       " {'_id': '90eea846-ad23-4b3c-a66c-087d84c60470', 'averageGrade': 28.165},\n",
       " {'_id': '2bd29005-b06b-4f56-89cb-69badc24a880',\n",
       "  'averageGrade': 34.306666666666665},\n",
       " {'_id': 'f08b8f8b-88cf-475c-8c7f-8006507aee04', 'averageGrade': 31.75},\n",
       " {'_id': 'e60378df-df39-4d51-932b-f7c140c62ab4', 'averageGrade': 18.81},\n",
       " {'_id': '83792cfb-a03f-4c11-ae9a-21f37fd4e85d', 'averageGrade': 50.65},\n",
       " {'_id': 'ffad8fd7-3385-401a-99d6-930d4e919c43', 'averageGrade': 87.825}]"
      ]
     },
     "execution_count": 65,
     "metadata": {},
     "output_type": "execute_result"
    }
   ],
   "source": [
    "##4.3 Student Performance Analysis\n",
    "#2a. Average grade per student\n",
    "avg_grade_per_student = list(db.submissions.aggregate([\n",
    "    {\n",
    "        \"$group\": {\n",
    "            \"_id\": \"$studentId\",\n",
    "            \"averageGrade\": {\"$avg\": \"$grade\"}\n",
    "        }\n",
    "    }\n",
    "]))\n",
    "avg_grade_per_student"
   ]
  },
  {
   "cell_type": "code",
   "execution_count": 66,
   "id": "36665fbc",
   "metadata": {},
   "outputs": [
    {
     "data": {
      "text/plain": [
       "[{'_id': 'b97fe9ff-2312-4045-876c-b71e4f277d68', 'completionRate': 0.0},\n",
       " {'_id': '31947696-320f-4ffb-a913-08a320e1e327',\n",
       "  'completionRate': 33.33333333333333},\n",
       " {'_id': '0b1598d1-e7cf-49de-9f4c-cba8d279698b', 'completionRate': 0.0},\n",
       " {'_id': 'd0023b00-35a7-4fd7-97c1-d397bda85125', 'completionRate': 0.0},\n",
       " {'_id': '74605146-5400-446c-8638-3e268cf0ecfc', 'completionRate': 0.0}]"
      ]
     },
     "execution_count": 66,
     "metadata": {},
     "output_type": "execute_result"
    }
   ],
   "source": [
    "##b. Completion rate by course\n",
    "completion_rate_by_course = list(db.enrollments.aggregate([\n",
    "    {\n",
    "        \"$group\": {\n",
    "            \"_id\": \"$courseId\",\n",
    "            \"totalEnrolled\": {\"$sum\": 1},\n",
    "            \"completedCount\": {\n",
    "                \"$sum\": {\n",
    "                    \"$cond\": [{\"$eq\": [\"$status\", \"completed\"]}, 1, 0]\n",
    "                }\n",
    "            }\n",
    "        }\n",
    "    },\n",
    "    {\n",
    "        \"$project\": {\n",
    "            \"completionRate\": {\n",
    "                \"$cond\": [\n",
    "                    {\"$eq\": [\"$totalEnrolled\", 0]},\n",
    "                    0,\n",
    "                    {\"$multiply\": [{\"$divide\": [\"$completedCount\", \"$totalEnrolled\"]}, 100]}\n",
    "                ]\n",
    "            }\n",
    "        }\n",
    "    }\n",
    "]))\n",
    "completion_rate_by_course"
   ]
  },
  {
   "cell_type": "code",
   "execution_count": 67,
   "id": "93d11299",
   "metadata": {},
   "outputs": [
    {
     "data": {
      "text/plain": [
       "[{'_id': 'ffad8fd7-3385-401a-99d6-930d4e919c43', 'avgGrade': 87.825},\n",
       " {'_id': '83792cfb-a03f-4c11-ae9a-21f37fd4e85d', 'avgGrade': 50.65},\n",
       " {'_id': 'eeae0acf-d682-433f-95dc-b74e8ca63329', 'avgGrade': 48.015},\n",
       " {'_id': '2bd29005-b06b-4f56-89cb-69badc24a880',\n",
       "  'avgGrade': 34.306666666666665},\n",
       " {'_id': 'f08b8f8b-88cf-475c-8c7f-8006507aee04', 'avgGrade': 31.75}]"
      ]
     },
     "execution_count": 67,
     "metadata": {},
     "output_type": "execute_result"
    }
   ],
   "source": [
    "##c. Top-performing students\n",
    "top_students = list(db.submissions.aggregate([\n",
    "    {\n",
    "        \"$group\": {\n",
    "            \"_id\": \"$studentId\",\n",
    "            \"avgGrade\": {\"$avg\": \"$grade\"}\n",
    "        }\n",
    "    },\n",
    "    {\"$sort\": {\"avgGrade\": -1}},\n",
    "    {\"$limit\": 5}\n",
    "]))\n",
    "top_students"
   ]
  },
  {
   "cell_type": "code",
   "execution_count": 69,
   "id": "29491cb9",
   "metadata": {},
   "outputs": [
    {
     "data": {
      "text/plain": [
       "[{'_id': 'dd10ef06-389c-4e00-a33f-d941bc6a5cc1', 'totalStudents': 4},\n",
       " {'_id': 'df36112c-3dab-48d6-8235-5fcac6fc5fce', 'totalStudents': 4},\n",
       " {'_id': '70f51a9d-d94b-469e-a5cf-bf95f15917c4', 'totalStudents': 3},\n",
       " {'_id': '7cd1ab9a-a9a8-475b-9264-4b867caf783b', 'totalStudents': 3}]"
      ]
     },
     "execution_count": 69,
     "metadata": {},
     "output_type": "execute_result"
    }
   ],
   "source": [
    "## 3. Instructor Analytics\n",
    "## a. Total students taught by each instructor\n",
    "students_per_instructor = list(db.enrollments.aggregate([\n",
    "    {\n",
    "        \"$lookup\": {\n",
    "            \"from\": \"courses\",\n",
    "            \"localField\": \"courseId\",\n",
    "            \"foreignField\": \"courseId\",\n",
    "            \"as\": \"course\"\n",
    "        }\n",
    "    },\n",
    "    {\"$unwind\": \"$course\"},\n",
    "    {\n",
    "        \"$group\": {\n",
    "            \"_id\": \"$course.instructorId\",\n",
    "            \"uniqueStudents\": {\"$addToSet\": \"$studentId\"}\n",
    "        }\n",
    "    },\n",
    "    {\n",
    "        \"$project\": {\n",
    "            \"totalStudents\": {\"$size\": \"$uniqueStudents\"}\n",
    "        }\n",
    "    }\n",
    "]))\n",
    "\n",
    "students_per_instructor"
   ]
  },
  {
   "cell_type": "code",
   "execution_count": 71,
   "id": "a8c479fe",
   "metadata": {},
   "outputs": [
    {
     "data": {
      "text/plain": [
       "[{'_id': '70f51a9d-d94b-469e-a5cf-bf95f15917c4',\n",
       "  'avgRating': 3.766666666666667},\n",
       " {'_id': 'df36112c-3dab-48d6-8235-5fcac6fc5fce', 'avgRating': 2.75},\n",
       " {'_id': '7cd1ab9a-a9a8-475b-9264-4b867caf783b',\n",
       "  'avgRating': 3.5999999999999996},\n",
       " {'_id': 'dd10ef06-389c-4e00-a33f-d941bc6a5cc1',\n",
       "  'avgRating': 3.3499999999999996}]"
      ]
     },
     "execution_count": 71,
     "metadata": {},
     "output_type": "execute_result"
    }
   ],
   "source": [
    "## b. Average course rating per instructor\n",
    "avg_rating_per_instructor = list(db.courses.aggregate([\n",
    "    {\n",
    "        \"$unwind\": \"$rating\"\n",
    "    },\n",
    "    {\n",
    "        \"$group\": {\n",
    "            \"_id\": \"$instructorId\",\n",
    "            \"avgRating\": {\"$avg\": \"$rating\"}\n",
    "        }\n",
    "    }\n",
    "]))\n",
    "avg_rating_per_instructor"
   ]
  },
  {
   "cell_type": "code",
   "execution_count": 72,
   "id": "75b03591",
   "metadata": {},
   "outputs": [
    {
     "data": {
      "text/plain": [
       "[{'_id': 'dd10ef06-389c-4e00-a33f-d941bc6a5cc1',\n",
       "  'totalRevenue': 434.40999999999997},\n",
       " {'_id': 'df36112c-3dab-48d6-8235-5fcac6fc5fce', 'totalRevenue': 358.32},\n",
       " {'_id': '70f51a9d-d94b-469e-a5cf-bf95f15917c4', 'totalRevenue': 117.09},\n",
       " {'_id': '7cd1ab9a-a9a8-475b-9264-4b867caf783b', 'totalRevenue': 259.86}]"
      ]
     },
     "execution_count": 72,
     "metadata": {},
     "output_type": "execute_result"
    }
   ],
   "source": [
    "## c. Revenue generated per instructor\n",
    "revenue_per_instructor = list(db.enrollments.aggregate([\n",
    "    {\n",
    "        \"$lookup\": {\n",
    "            \"from\": \"courses\",\n",
    "            \"localField\": \"courseId\",\n",
    "            \"foreignField\": \"courseId\",\n",
    "            \"as\": \"course\"\n",
    "        }\n",
    "    },\n",
    "    {\"$unwind\": \"$course\"},\n",
    "    {\n",
    "        \"$group\": {\n",
    "            \"_id\": \"$course.instructorId\",\n",
    "            \"totalRevenue\": {\"$sum\": \"$course.price\"}\n",
    "        }\n",
    "    }\n",
    "]))\n",
    "revenue_per_instructor"
   ]
  },
  {
   "cell_type": "code",
   "execution_count": 73,
   "id": "5cf7cfc8",
   "metadata": {},
   "outputs": [
    {
     "data": {
      "text/plain": [
       "[{'_id': {'year': 2025, 'month': 1}, 'count': 4},\n",
       " {'_id': {'year': 2025, 'month': 2}, 'count': 1},\n",
       " {'_id': {'year': 2025, 'month': 3}, 'count': 3},\n",
       " {'_id': {'year': 2025, 'month': 4}, 'count': 4},\n",
       " {'_id': {'year': 2025, 'month': 5}, 'count': 3}]"
      ]
     },
     "execution_count": 73,
     "metadata": {},
     "output_type": "execute_result"
    }
   ],
   "source": [
    "##4. Advanced Analytics\n",
    "##a. Monthly enrollment trends (last 12 months)\n",
    "monthly_enrollments = list(db.enrollments.aggregate([\n",
    "    {\n",
    "        \"$match\": {\n",
    "            \"enrolledAt\": {\n",
    "                \"$gte\": datetime.now(timezone.utc) - timedelta(days=365)\n",
    "            }\n",
    "        }\n",
    "    },\n",
    "    {\n",
    "        \"$group\": {\n",
    "            \"_id\": {\n",
    "                \"year\": {\"$year\": \"$enrolledAt\"},\n",
    "                \"month\": {\"$month\": \"$enrolledAt\"}\n",
    "            },\n",
    "            \"count\": {\"$sum\": 1}\n",
    "        }\n",
    "    },\n",
    "    {\"$sort\": {\"_id.year\": 1, \"_id.month\": 1}}\n",
    "]))\n",
    "monthly_enrollments"
   ]
  },
  {
   "cell_type": "code",
   "execution_count": 74,
   "id": "b9074e29",
   "metadata": {},
   "outputs": [
    {
     "data": {
      "text/plain": [
       "[{'_id': 'Cybersecurity', 'enrollmentCount': 6},\n",
       " {'_id': 'Data Science', 'enrollmentCount': 4},\n",
       " {'_id': 'Business', 'enrollmentCount': 4},\n",
       " {'_id': 'AI', 'enrollmentCount': 1}]"
      ]
     },
     "execution_count": 74,
     "metadata": {},
     "output_type": "execute_result"
    }
   ],
   "source": [
    "##b. Most popular course categories (by enrollment count)\n",
    "popular_categories = list(db.enrollments.aggregate([\n",
    "    {\n",
    "        \"$lookup\": {\n",
    "            \"from\": \"courses\",\n",
    "            \"localField\": \"courseId\",\n",
    "            \"foreignField\": \"courseId\",\n",
    "            \"as\": \"course\"\n",
    "        }\n",
    "    },\n",
    "    {\"$unwind\": \"$course\"},\n",
    "    {\n",
    "        \"$group\": {\n",
    "            \"_id\": \"$course.category\",\n",
    "            \"enrollmentCount\": {\"$sum\": 1}\n",
    "        }\n",
    "    },\n",
    "    {\"$sort\": {\"enrollmentCount\": -1}}\n",
    "]))\n",
    "popular_categories"
   ]
  },
  {
   "cell_type": "code",
   "execution_count": 75,
   "id": "3892eb5a",
   "metadata": {},
   "outputs": [
    {
     "data": {
      "text/plain": [
       "[{'_id': 'eeae0acf-d682-433f-95dc-b74e8ca63329', 'avgProgress': 90.33},\n",
       " {'_id': '90eea846-ad23-4b3c-a66c-087d84c60470', 'avgProgress': 52.72},\n",
       " {'_id': '2bd29005-b06b-4f56-89cb-69badc24a880',\n",
       "  'avgProgress': 46.980000000000004},\n",
       " {'_id': 'f08b8f8b-88cf-475c-8c7f-8006507aee04', 'avgProgress': 41.82},\n",
       " {'_id': 'f8b895de-1167-4f7e-b57f-8fae6e18fde6',\n",
       "  'avgProgress': 61.123333333333335},\n",
       " {'_id': '83792cfb-a03f-4c11-ae9a-21f37fd4e85d', 'avgProgress': 3.62},\n",
       " {'_id': 'e6d981c6-be75-4abb-9a74-c69be70fc54e', 'avgProgress': 81.32},\n",
       " {'_id': 'ffad8fd7-3385-401a-99d6-930d4e919c43', 'avgProgress': 36.15},\n",
       " {'_id': '656104b8-9f8b-4e05-bf37-db9485ed5b1b',\n",
       "  'avgProgress': 20.064999999999998},\n",
       " {'_id': '2ae7b5c7-ca71-4595-b802-b2d19feaf29d', 'avgProgress': 60.43}]"
      ]
     },
     "execution_count": 75,
     "metadata": {},
     "output_type": "execute_result"
    }
   ],
   "source": [
    "##c. Student engagement metrics\n",
    "avg_progress_per_student = list(db.enrollments.aggregate([\n",
    "    {\n",
    "        \"$group\": {\n",
    "            \"_id\": \"$studentId\",\n",
    "            \"avgProgress\": {\"$avg\": \"$progress\"}\n",
    "        }\n",
    "    }\n",
    "]))\n",
    "avg_progress_per_student"
   ]
  },
  {
   "cell_type": "markdown",
   "id": "56dae597",
   "metadata": {},
   "source": [
    "### Section 5: Indexing and Performance"
   ]
  },
  {
   "cell_type": "code",
   "execution_count": 76,
   "id": "82b8f732",
   "metadata": {},
   "outputs": [
    {
     "data": {
      "text/plain": [
       "'studentId_1_courseId_1'"
      ]
     },
     "execution_count": 76,
     "metadata": {},
     "output_type": "execute_result"
    }
   ],
   "source": [
    "## a. Creating appropriate indexes\n",
    "# Index for user email lookup (unique for quick lookup)\n",
    "db.users.create_index(\"email\", unique=True)\n",
    "\n",
    "# Indexes for course search by title (text index) and category\n",
    "db.courses.create_index([(\"title\", \"text\"), (\"category\", 1)])\n",
    "\n",
    "# Index for assignment queries by due date\n",
    "db.assignments.create_index(\"dueDate\")\n",
    "\n",
    "# Compound index for enrollment queries by student and course\n",
    "db.enrollments.create_index([(\"studentId\", 1), (\"courseId\", 1)])\n"
   ]
  },
  {
   "cell_type": "code",
   "execution_count": 77,
   "id": "da9559b4",
   "metadata": {},
   "outputs": [
    {
     "name": "stdout",
     "output_type": "stream",
     "text": [
      "User lookup time: 0.005166769027709961\n",
      "Explain plan: {'explainVersion': '1', 'queryPlanner': {'namespace': 'eduhub_db.users', 'parsedQuery': {'email': {'$eq': 'student@example.com'}}, 'indexFilterSet': False, 'queryHash': 'ED28E3D2', 'planCacheShapeHash': 'ED28E3D2', 'planCacheKey': '1E950542', 'optimizationTimeMillis': 0, 'maxIndexedOrSolutionsReached': False, 'maxIndexedAndSolutionsReached': False, 'maxScansToExplodeReached': False, 'prunedSimilarIndexes': False, 'winningPlan': {'isCached': False, 'stage': 'EXPRESS_IXSCAN', 'keyPattern': '{ email: 1 }', 'indexName': 'email_1'}, 'rejectedPlans': []}, 'executionStats': {'executionSuccess': True, 'nReturned': 0, 'executionTimeMillis': 0, 'totalKeysExamined': 0, 'totalDocsExamined': 0, 'executionStages': {'isCached': False, 'stage': 'EXPRESS_IXSCAN', 'keyPattern': '{ email: 1 }', 'indexName': 'email_1', 'keysExamined': 0, 'docsExamined': 0, 'nReturned': 0}, 'allPlansExecution': []}, 'queryShapeHash': '13B5689DF2E437921787A21BC857ED38433A6454800A5CDB2C6D83C1DE8F5197', 'command': {'find': 'users', 'filter': {'email': 'student@example.com'}, '$db': 'eduhub_db'}, 'serverInfo': {'host': 'MPT-3135-LP.local', 'port': 27017, 'version': '8.0.10', 'gitVersion': '9d03076bb2d5147d5b6fe381c7118b0b0478b682'}, 'serverParameters': {'internalQueryFacetBufferSizeBytes': 104857600, 'internalQueryFacetMaxOutputDocSizeBytes': 104857600, 'internalLookupStageIntermediateDocumentMaxSizeBytes': 104857600, 'internalDocumentSourceGroupMaxMemoryBytes': 104857600, 'internalQueryMaxBlockingSortMemoryUsageBytes': 104857600, 'internalQueryProhibitBlockingMergeOnMongoS': 0, 'internalQueryMaxAddToSetBytes': 104857600, 'internalDocumentSourceSetWindowFieldsMaxMemoryBytes': 104857600, 'internalQueryFrameworkControl': 'trySbeRestricted', 'internalQueryPlannerIgnoreIndexWithCollationForRegex': 1}, 'ok': 1.0}\n"
     ]
    }
   ],
   "source": [
    "##  Task 5.2: Query Optimization\n",
    "import time\n",
    "\n",
  
    "start = time.time()\n",
    "result = db.users.find_one({\"email\": \"student@example.com\"})\n",
    "end = time.time()\n",
    "print(\"User lookup time:\", end - start)\n",
    "print(\"Explain plan:\", db.users.find({\"email\": \"student@example.com\"}).explain())\n"
   ]
  },
  {
   "cell_type": "code",
   "execution_count": null,
   "id": "7734de50",
   "metadata": {},
   "outputs": [
    {
     "name": "stdout",
     "output_type": "stream",
     "text": [
      "Course search time: 0.002566099166870117\n",
      "Explain plan: {'explainVersion': '1', 'queryPlanner': {'namespace': 'eduhub_db.courses', 'parsedQuery': {'$text': {'$search': 'python', '$language': 'english', '$caseSensitive': False, '$diacriticSensitive': False}}, 'indexFilterSet': False, 'queryHash': 'CF6F4CEE', 'planCacheShapeHash': 'CF6F4CEE', 'planCacheKey': '08852285', 'optimizationTimeMillis': 0, 'maxIndexedOrSolutionsReached': False, 'maxIndexedAndSolutionsReached': False, 'maxScansToExplodeReached': False, 'prunedSimilarIndexes': False, 'winningPlan': {'isCached': False, 'stage': 'TEXT_MATCH', 'indexPrefix': {}, 'indexName': 'title_text_category_1', 'parsedTextQuery': {'terms': ['python'], 'negatedTerms': [], 'phrases': [], 'negatedPhrases': []}, 'textIndexVersion': 3, 'inputStage': {'stage': 'FETCH', 'inputStage': {'stage': 'IXSCAN', 'keyPattern': {'_fts': 'text', '_ftsx': 1, 'category': 1}, 'indexName': 'title_text_category_1', 'isMultiKey': True, 'isUnique': False, 'isSparse': False, 'isPartial': False, 'indexVersion': 2, 'direction': 'backward', 'indexBounds': {}}}}, 'rejectedPlans': []}, 'executionStats': {'executionSuccess': True, 'nReturned': 1, 'executionTimeMillis': 0, 'totalKeysExamined': 1, 'totalDocsExamined': 1, 'executionStages': {'isCached': False, 'stage': 'TEXT_MATCH', 'nReturned': 1, 'executionTimeMillisEstimate': 0, 'works': 2, 'advanced': 1, 'needTime': 0, 'needYield': 0, 'saveState': 0, 'restoreState': 0, 'isEOF': 1, 'indexPrefix': {}, 'indexName': 'title_text_category_1', 'parsedTextQuery': {'terms': ['python'], 'negatedTerms': [], 'phrases': [], 'negatedPhrases': []}, 'textIndexVersion': 3, 'docsRejected': 0, 'inputStage': {'stage': 'FETCH', 'nReturned': 1, 'executionTimeMillisEstimate': 0, 'works': 2, 'advanced': 1, 'needTime': 0, 'needYield': 0, 'saveState': 0, 'restoreState': 0, 'isEOF': 1, 'docsExamined': 1, 'alreadyHasObj': 0, 'inputStage': {'stage': 'IXSCAN', 'nReturned': 1, 'executionTimeMillisEstimate': 0, 'works': 2, 'advanced': 1, 'needTime': 0, 'needYield': 0, 'saveState': 0, 'restoreState': 0, 'isEOF': 1, 'keyPattern': {'_fts': 'text', '_ftsx': 1, 'category': 1}, 'indexName': 'title_text_category_1', 'isMultiKey': True, 'isUnique': False, 'isSparse': False, 'isPartial': False, 'indexVersion': 2, 'direction': 'backward', 'indexBounds': {}, 'keysExamined': 1, 'seeks': 1, 'dupsTested': 1, 'dupsDropped': 0}}}, 'allPlansExecution': []}, 'queryShapeHash': '100E3BCAE1AA169D38DCF5712A9B1EA199165787E92E325E66D9AB20BFC51B85', 'command': {'find': 'courses', 'filter': {'$text': {'$search': 'python'}}, '$db': 'eduhub_db'}, 'serverInfo': {'host': 'MPT-3135-LP.local', 'port': 27017, 'version': '8.0.10', 'gitVersion': '9d03076bb2d5147d5b6fe381c7118b0b0478b682'}, 'serverParameters': {'internalQueryFacetBufferSizeBytes': 104857600, 'internalQueryFacetMaxOutputDocSizeBytes': 104857600, 'internalLookupStageIntermediateDocumentMaxSizeBytes': 104857600, 'internalDocumentSourceGroupMaxMemoryBytes': 104857600, 'internalQueryMaxBlockingSortMemoryUsageBytes': 104857600, 'internalQueryProhibitBlockingMergeOnMongoS': 0, 'internalQueryMaxAddToSetBytes': 104857600, 'internalDocumentSourceSetWindowFieldsMaxMemoryBytes': 104857600, 'internalQueryFrameworkControl': 'trySbeRestricted', 'internalQueryPlannerIgnoreIndexWithCollationForRegex': 1}, 'ok': 1.0}\n"
     ]
    }
   ],
   "source": [
    "# b. Search courses by title (partial match)\n",
    "start = time.time()\n",
    "courses = list(db.courses.find({\"$text\": {\"$search\": \"python\"}}))\n",
    "end = time.time()\n",
    "print(\"Course search time:\", end - start)\n",
    "print(\"Explain plan:\", db.courses.find({\"$text\": {\"$search\": \"python\"}}).explain())\n"
   ]
  },
  {
   "cell_type": "code",
   "execution_count": null,
   "id": "1f8c1abd",
   "metadata": {},
   "outputs": [
    {
     "name": "stdout",
     "output_type": "stream",
     "text": [
      "Upcoming assignment query time: 0.0058040618896484375\n",
      "Explain plan: {'explainVersion': '1', 'queryPlanner': {'namespace': 'eduhub_db.assignments', 'parsedQuery': {'$and': [{'dueDate': {'$lte': datetime.datetime(2025, 6, 19, 17, 16, 31, 329000)}}, {'dueDate': {'$gte': datetime.datetime(2025, 6, 12, 17, 16, 31, 329000)}}]}, 'indexFilterSet': False, 'queryHash': '63FD7581', 'planCacheShapeHash': '63FD7581', 'planCacheKey': 'F669F935', 'optimizationTimeMillis': 0, 'maxIndexedOrSolutionsReached': False, 'maxIndexedAndSolutionsReached': False, 'maxScansToExplodeReached': False, 'prunedSimilarIndexes': False, 'winningPlan': {'isCached': False, 'stage': 'FETCH', 'inputStage': {'stage': 'IXSCAN', 'keyPattern': {'dueDate': 1}, 'indexName': 'dueDate_1', 'isMultiKey': False, 'multiKeyPaths': {'dueDate': []}, 'isUnique': False, 'isSparse': False, 'isPartial': False, 'indexVersion': 2, 'direction': 'forward', 'indexBounds': {'dueDate': ['[new Date(1749748591329), new Date(1750353391329)]']}}}, 'rejectedPlans': []}, 'executionStats': {'executionSuccess': True, 'nReturned': 4, 'executionTimeMillis': 0, 'totalKeysExamined': 4, 'totalDocsExamined': 4, 'executionStages': {'isCached': False, 'stage': 'FETCH', 'nReturned': 4, 'executionTimeMillisEstimate': 0, 'works': 5, 'advanced': 4, 'needTime': 0, 'needYield': 0, 'saveState': 0, 'restoreState': 0, 'isEOF': 1, 'docsExamined': 4, 'alreadyHasObj': 0, 'inputStage': {'stage': 'IXSCAN', 'nReturned': 4, 'executionTimeMillisEstimate': 0, 'works': 5, 'advanced': 4, 'needTime': 0, 'needYield': 0, 'saveState': 0, 'restoreState': 0, 'isEOF': 1, 'keyPattern': {'dueDate': 1}, 'indexName': 'dueDate_1', 'isMultiKey': False, 'multiKeyPaths': {'dueDate': []}, 'isUnique': False, 'isSparse': False, 'isPartial': False, 'indexVersion': 2, 'direction': 'forward', 'indexBounds': {'dueDate': ['[new Date(1749748591329), new Date(1750353391329)]']}, 'keysExamined': 4, 'seeks': 1, 'dupsTested': 0, 'dupsDropped': 0}}, 'allPlansExecution': []}, 'queryShapeHash': '10201EC4329FBD60991815347E985A344FDFC86C8E37759C3E29935A50A9C8DA', 'command': {'find': 'assignments', 'filter': {'dueDate': {'$gte': datetime.datetime(2025, 6, 12, 17, 16, 31, 329000), '$lte': datetime.datetime(2025, 6, 19, 17, 16, 31, 329000)}}, '$db': 'eduhub_db'}, 'serverInfo': {'host': 'MPT-3135-LP.local', 'port': 27017, 'version': '8.0.10', 'gitVersion': '9d03076bb2d5147d5b6fe381c7118b0b0478b682'}, 'serverParameters': {'internalQueryFacetBufferSizeBytes': 104857600, 'internalQueryFacetMaxOutputDocSizeBytes': 104857600, 'internalLookupStageIntermediateDocumentMaxSizeBytes': 104857600, 'internalDocumentSourceGroupMaxMemoryBytes': 104857600, 'internalQueryMaxBlockingSortMemoryUsageBytes': 104857600, 'internalQueryProhibitBlockingMergeOnMongoS': 0, 'internalQueryMaxAddToSetBytes': 104857600, 'internalDocumentSourceSetWindowFieldsMaxMemoryBytes': 104857600, 'internalQueryFrameworkControl': 'trySbeRestricted', 'internalQueryPlannerIgnoreIndexWithCollationForRegex': 1}, 'ok': 1.0}\n"
     ]
    }
   ],
   "source": [
    "#c. Find assignments due within a week\n",
    "today = datetime.now(timezone.utc)\n",
    "next_week = today + timedelta(days=7)\n",
    "\n",
    "start = time.time()\n",
    "assignments = list(db.assignments.find({\n",
    "    \"dueDate\": {\"$gte\": today, \"$lte\": next_week}\n",
    "}))\n",
    "end = time.time()\n",
    "print(\"Upcoming assignment query time:\", end - start)\n",
    "print(\"Explain plan:\", db.assignments.find({\n",
    "    \"dueDate\": {\"$gte\": today, \"$lte\": next_week}\n",
    "}).explain())\n"
   ]
  },
  {
   "cell_type": "markdown",
   "id": "7cea512a",
   "metadata": {},
   "source": [
    "### Section 6: Data Validation and Error Handling"
   ]
  },
  {
   "cell_type": "code",
   "execution_count": 80,
   "id": "cbcc8f0a",
   "metadata": {},
   "outputs": [
    {
     "name": "stdout",
     "output_type": "stream",
     "text": [
      "Validation rules successfully applied to all collections.\n"
     ]
    }
   ],
   "source": [
    "\n",
    "## 6.1 Schema Validation\n",
    "# Define validation rules for each collection\n",
    "validation_commands = [\n",
    "    {\n",
    "        \"collMod\": \"users\",\n",
    "        \"validator\": {\n",
    "            \"$jsonSchema\": {\n",
    "                \"bsonType\": \"object\",\n",
    "                \"required\": [\"userId\", \"email\", \"firstName\", \"lastName\", \"role\"],\n",
    "                \"properties\": {\n",
    "                    \"userId\": {\"bsonType\": \"string\"},\n",
    "                    \"email\": {\n",
    "                        \"bsonType\": \"string\",\n",
    "                        \"pattern\": \"^.+@.+$\"\n",
    "                    },\n",
    "                    \"firstName\": {\"bsonType\": \"string\"},\n",
    "                    \"lastName\": {\"bsonType\": \"string\"},\n",
    "                    \"role\": {\"enum\": [\"student\", \"instructor\"]},\n",
    "                    \"dateJoined\": {\"bsonType\": \"date\"},\n",
    "                    \"profile\": {\n",
    "                        \"bsonType\": \"object\",\n",
    "                        \"properties\": {\n",
    "                            \"bio\": {\"bsonType\": \"string\"},\n",
    "                            \"avatar\": {\"bsonType\": \"string\"},\n",
    "                            \"skills\": {\n",
    "                                \"bsonType\": \"array\",\n",
    "                                \"items\": {\"bsonType\": \"string\"}\n",
    "                            }\n",
    "                        }\n",
    "                    },\n",
    "                    \"isActive\": {\"bsonType\": \"bool\"}\n",
    "                }\n",
    "            }\n",
    "        },\n",
    "        \"validationLevel\": \"strict\"\n",
    "    },\n",
    "    {\n",
    "        \"collMod\": \"courses\",\n",
    "        \"validator\": {\n",
    "            \"$jsonSchema\": {\n",
    "                \"bsonType\": \"object\",\n",
    "                \"required\": [\"courseId\", \"title\", \"instructorId\", \"level\"],\n",
    "                \"properties\": {\n",
    "                    \"courseId\": {\"bsonType\": \"string\"},\n",
    "                    \"title\": {\"bsonType\": \"string\"},\n",
    "                    \"description\": {\"bsonType\": \"string\"},\n",
    "                    \"instructorId\": {\"bsonType\": \"string\"},\n",
    "                    \"category\": {\"bsonType\": \"string\"},\n",
    "                    \"level\": {\"enum\": [\"beginner\", \"intermediate\", \"advanced\"]},\n",
    "                    \"duration\": {\"bsonType\": \"double\"},\n",
    "                    \"price\": {\"bsonType\": \"double\"},\n",
    "                    \"tags\": {\n",
    "                        \"bsonType\": \"array\",\n",
    "                        \"items\": {\"bsonType\": \"string\"}\n",
    "                    },\n",
    "                    \"createdAt\": {\"bsonType\": \"date\"},\n",
    "                    \"updatedAt\": {\"bsonType\": \"date\"},\n",
    "                    \"isPublished\": {\"bsonType\": \"bool\"},\n",
    "                    \"rating\": {\"bsonType\": \"double\"}\n",
    "                }\n",
    "            }\n",
    "        },\n",
    "        \"validationLevel\": \"strict\"\n",
    "    },\n",
    "    {\n",
    "        \"collMod\": \"assignments\",\n",
    "        \"validator\": {\n",
    "            \"$jsonSchema\": {\n",
    "                \"bsonType\": \"object\",\n",
    "                \"required\": [\"assignmentId\", \"courseId\", \"title\", \"description\", \"dueDate\"],\n",
    "                \"properties\": {\n",
    "                    \"assignmentId\": {\"bsonType\": \"string\"},\n",
    "                    \"courseId\": {\"bsonType\": \"string\"},\n",
    "                    \"lessonId\": {\"bsonType\": \"string\"},\n",
    "                    \"title\": {\"bsonType\": \"string\"},\n",
    "                    \"description\": {\"bsonType\": \"string\"},\n",
    "                    \"dueDate\": {\"bsonType\": \"date\"},\n",
    "                    \"points\": {\"bsonType\": \"int\"},\n",
    "                    \"createdAt\": {\"bsonType\": \"date\"}\n",
    "                }\n",
    "            }\n",
    "        },\n",
    "        \"validationLevel\": \"strict\"\n",
    "    },\n",
    "    {\n",
    "        \"collMod\": \"submissions\",\n",
    "        \"validator\": {\n",
    "            \"$jsonSchema\": {\n",
    "                \"bsonType\": \"object\",\n",
    "                \"required\": [\"submissionId\", \"assignmentId\", \"studentId\", \"submittedAt\"],\n",
    "                \"properties\": {\n",
    "                    \"submissionId\": {\"bsonType\": \"string\"},\n",
    "                    \"assignmentId\": {\"bsonType\": \"string\"},\n",
    "                    \"studentId\": {\"bsonType\": \"string\"},\n",
    "                    \"content\": {\"bsonType\": \"string\"},\n",
    "                    \"grade\": {\"bsonType\": \"double\"},\n",
    "                    \"feedback\": {\"bsonType\": \"string\"},\n",
    "                    \"submittedAt\": {\"bsonType\": \"date\"}\n",
    "                }\n",
    "            }\n",
    "        },\n",
    "        \"validationLevel\": \"strict\"\n",
    "    },\n",
    "    {\n",
    "        \"collMod\": \"enrollments\",\n",
    "        \"validator\": {\n",
    "            \"$jsonSchema\": {\n",
    "                \"bsonType\": \"object\",\n",
    "                \"required\": [\"enrollmentId\", \"studentId\", \"courseId\", \"enrolledAt\", \"status\"],\n",
    "                \"properties\": {\n",
    "                    \"enrollmentId\": {\"bsonType\": \"string\"},\n",
    "                    \"studentId\": {\"bsonType\": \"string\"},\n",
    "                    \"courseId\": {\"bsonType\": \"string\"},\n",
    "                    \"enrolledAt\": {\"bsonType\": \"date\"},\n",
    "                    \"status\": {\n",
    "                        \"enum\": [\"active\", \"completed\", \"dropped\"]\n",
    "                    },\n",
    "                    \"progress\": {\n",
    "                        \"bsonType\": \"double\",\n",
    "                        \"minimum\": 0,\n",
    "                        \"maximum\": 100\n",
    "                    }\n",
    "                }\n",
    "            }\n",
    "        },\n",
    "        \"validationLevel\": \"strict\"\n",
    "    },\n",
    "    {\n",
    "        \"collMod\": \"lessons\",\n",
    "        \"validator\": {\n",
    "            \"$jsonSchema\": {\n",
    "                \"bsonType\": \"object\",\n",
    "                \"required\": [\"lessonId\", \"courseId\", \"title\", \"content\", \"order\"],\n",
    "                \"properties\": {\n",
    "                    \"lessonId\": {\"bsonType\": \"string\"},\n",
    "                    \"courseId\": {\"bsonType\": \"string\"},\n",
    "                    \"title\": {\"bsonType\": \"string\"},\n",
    "                    \"content\": {\"bsonType\": \"string\"},\n",
    "                    \"resources\": {\n",
    "                        \"bsonType\": \"array\",\n",
    "                        \"items\": {\"bsonType\": \"string\"}\n",
    "                    },\n",
    "                    \"order\": {\"bsonType\": \"int\"},\n",
    "                    \"createdAt\": {\"bsonType\": \"date\"}\n",
    "                }\n",
    "            }\n",
    "        },\n",
    "        \"validationLevel\": \"strict\"\n",
    "    }\n",
    "]\n",
    "\n",
    "# Apply validation to each collection\n",
    "for command in validation_commands:\n",
    "    db.command(command)\n",
    "\n",
    "print(\"Validation rules successfully applied to all collections.\")\n"
   ]
  },
  {
   "cell_type": "code",
   "execution_count": 81,
   "id": "a5ee0882",
   "metadata": {},
   "outputs": [
    {
     "name": "stdout",
     "output_type": "stream",
     "text": [
      "✅ Inserted user: user123\n",
      "❌ Duplicate Key Error for userId 'user123': E11000 duplicate key error collection: eduhub_db.users index: email_1 dup key: { email: \"test@example.com\" }\n",
      "❌ Write Error for userId 'user124': Document failed validation\n",
      "❌ Write Error for userId 'user125': Document failed validation\n"
     ]
    }
   ],
   "source": [
    "## 6.2 Error Handling\n",
    "from pymongo import errors\n",
    "\n",
    "\n",
    "users = db[\"users\"]\n",
    "\n",
    "# Ensure unique index on userId to trigger duplicate key errors\n",
    "users.create_index(\"userId\", unique=True)\n",
    "\n",
    "# Sample user document\n",
    "valid_user = {\n",
    "    \"userId\": \"user123\",\n",
    "    \"email\": \"test@example.com\",\n",
    "    \"firstName\": \"Jane\",\n",
    "    \"lastName\": \"Doe\",\n",
    "    \"role\": \"student\",\n",
    "    \"dateJoined\": datetime.now(),\n",
    "    \"isActive\": True\n",
    "}\n",
    "\n",
    "# Duplicate userId\n",
    "duplicate_user = valid_user.copy()\n",
    "\n",
    "# Invalid data type (dateJoined should be date, not string)\n",
    "invalid_type_user = valid_user.copy()\n",
    "invalid_type_user[\"userId\"] = \"user124\"\n",
    "invalid_type_user[\"dateJoined\"] = \"2025-06-12\"  # Wrong type\n",
    "\n",
    "# Missing required field (email)\n",
    "missing_field_user = valid_user.copy()\n",
    "missing_field_user[\"userId\"] = \"user125\"\n",
    "del missing_field_user[\"email\"]\n",
    "\n",
    "# Insert and handle errors\n",
    "for user in [valid_user, duplicate_user, invalid_type_user, missing_field_user]:\n",
    "    try:\n",
    "        users.insert_one(user)\n",
    "        print(f\"✅ Inserted user: {user['userId']}\")\n",
    "    except errors.DuplicateKeyError as e:\n",
    "        print(f\"❌ Duplicate Key Error for userId '{user['userId']}': {e.details['errmsg']}\")\n",
    "    except errors.WriteError as e:\n",
    "        print(f\"❌ Write Error for userId '{user['userId']}': {e.details['errmsg']}\")\n",
    "    except Exception as e:\n",
    "        print(f\"❌ Unexpected Error for userId '{user.get('userId', 'UNKNOWN')}': {str(e)}\")\n"
   ]
  },
  {
   "cell_type": "code",
   "execution_count": 82,
   "id": "acf908c6",
   "metadata": {},
   "outputs": [
    {
     "name": "stdout",
     "output_type": "stream",
     "text": [
      "✅ Exported all collections to sample_data.json\n"
     ]
    }
   ],
   "source": [
    "## exporting data to a sample_data.json file\"\n",
    "import json\n",
    "\n",
    "\n",
    "# Define all your collections\n",
    "collections = [\"users\", \"courses\", \"assignments\", \"submissions\", \"enrollments\", \"lessons\"]\n",
    "\n",
    "# Create a dictionary to hold all data\n",
    "data_export = {}\n",
    "\n",
    "for col in collections:\n",
    "    data_export[col] = list(db[col].find({}, {'_id': True}))  # Include ObjectId\n",
    "\n",
    "# Export to a single JSON file\n",
    "with open(\"sample_data.json\", \"w\") as f:\n",
    "    json.dump(data_export, f, indent=4, default=str)\n",
    "\n",
    "print(\"✅ Exported all collections to sample_data.json\")\n"
   ]
  },
  {
   "cell_type": "code",
   "execution_count": 84,
   "id": "1f3f1914",
   "metadata": {},
   "outputs": [
    {
     "name": "stdout",
     "output_type": "stream",
     "text": [
      "✅ Schema validation exported to schema_validation.json\n"
     ]
    }
   ],
   "source": [
    "## exporting schema validation\n",
    "\n",
    "# List of collections to export validation for\n",
    "collections = [\"users\", \"courses\", \"assignments\", \"submissions\", \"enrollments\", \"lessons\"]\n",
    "\n",
    "# Dict to hold validation rules\n",
    "schema_validations = {}\n",
    "\n",
    "# Get validation rules for each collection\n",
    "for collection_name in collections:\n",
    "    options = db.command(\"listCollections\", filter={\"name\": collection_name})\n",
    "    if options[\"ok\"] and options[\"cursor\"][\"firstBatch\"]:\n",
    "        coll_info = options[\"cursor\"][\"firstBatch\"][0]\n",
    "        validator = coll_info.get(\"options\", {}).get(\"validator\")\n",
    "        if validator:\n",
    "            schema_validations[collection_name] = validator\n",
    "\n",
    "# Save to JSON file\n",
    "with open(\"schema_validation.json\", \"w\") as f:\n",
    "    json.dump(schema_validations, f, indent=4)\n",
    "\n",
    "print(\"✅ Schema validation exported to schema_validation.json\")\n"
   ]
  },
  {
   "cell_type": "markdown",
   "id": "051fd734",
   "metadata": {},
   "source": [
    "### Task 1: Design a Data Archiving Strategy for Old Enrollments\n",
    "Soft Archiving (Mark as Archived)\n",
    "\n"
   ]
  },
  {
   "cell_type": "code",
   "execution_count": 7,
   "id": "6af46fa4",
   "metadata": {},
   "outputs": [
    {
     "data": {
      "text/plain": [
       "UpdateResult({'n': 0, 'nModified': 0, 'ok': 1.0, 'updatedExisting': False}, acknowledged=True)"
      ]
     },
     "execution_count": 7,
     "metadata": {},
     "output_type": "execute_result"
    }
   ],
   "source": [
    "# Define cutoff date (1 year ago)\n",
    "cutoff_date = datetime.now(timezone.utc) - timedelta(days=365)\n",
    "\n",
    "db.enrollments.update_many(\n",
    "    {\n",
    "        \"status\": {\"$in\": [\"completed\", \"dropped\"]},\n",
    "        \"enrolledAt\": {\"$lt\": cutoff_date}\n",
    "    },\n",
    "    {\"$set\": {\"archived\": True}}\n",
    ")"
   ]
  },
  {
   "cell_type": "markdown",
   "id": "64b214f9",
   "metadata": {},
   "source": [
    "### Task 2: Implement Text Search Functionality for Course Content\n",
    "Goal: Enable full-text search on fields like course title, description, and lesson content."
   ]
  },
  {
   "cell_type": "code",
   "execution_count": 10,
   "id": "8340e1d2",
   "metadata": {},
   "outputs": [],
   "source": [
    "def search_courses_by_keyword(db, keyword):\n",
    "    \"\"\"\n",
    "    Searches the 'courses' collection for documents where the keyword appears\n",
    "    in either the 'title' or 'description' fields (case-insensitive).\n",
    "    \n",
    "    Parameters:\n",
    "        db (Database): The connected MongoDB database object.\n",
    "        keyword (str): The keyword to search for.\n",
    "    \n",
    "    Returns:\n",
    "        list: List of matching course documents.\n",
    "    \"\"\"\n",
    "    query = {\n",
    "        \"$or\": [\n",
    "            {\"title\": {\"$regex\": keyword, \"$options\": \"i\"}},\n",
    "            {\"description\": {\"$regex\": keyword, \"$options\": \"i\"}}\n",
    "        ]\n",
    "    }\n",
    "\n",
    "    results = list(db.courses.find(query))\n",
    "    return results\n"
   ]
  },
  {
   "cell_type": "code",
   "execution_count": 11,
   "id": "07437576",
   "metadata": {},
   "outputs": [
    {
     "name": "stdout",
     "output_type": "stream",
     "text": [
      "Data Analysis with Python - Learn how to analyze data using Python.\n"
     ]
    }
   ],
   "source": [
    "results = search_courses_by_keyword(db, \"python\")\n",
    "\n",
    "for course in results:\n",
    "    print(f\"{course['title']} - {course.get('description', 'No description')}\")"
   ]
  }
 ],
 "metadata": {
  "kernelspec": {
   "display_name": "Python 3 (ipykernel)",
   "language": "python",
   "name": "python3"
  },
  "language_info": {
   "codemirror_mode": {
    "name": "ipython",
    "version": 3
   },
   "file_extension": ".py",
   "mimetype": "text/x-python",
   "name": "python",
   "nbconvert_exporter": "python",
   "pygments_lexer": "ipython3",
   "version": "3.12.4"
  }
 },
 "nbformat": 4,
 "nbformat_minor": 5
}
